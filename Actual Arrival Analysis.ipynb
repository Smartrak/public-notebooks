{
 "cells": [
  {
   "cell_type": "markdown",
   "metadata": {},
   "source": [
    "Referencing nuget packages"
   ]
  },
  {
   "cell_type": "code",
   "execution_count": 1,
   "metadata": {},
   "outputs": [
    {
     "data": {
      "text/html": [
       "Installing package XPlot.Plotly.............done!"
      ]
     },
     "metadata": {},
     "output_type": "display_data"
    },
    {
     "data": {
      "text/html": [
       "Successfully added reference to package XPlot.Plotly, version 3.0.1"
      ]
     },
     "metadata": {},
     "output_type": "display_data"
    },
    {
     "data": {
      "text/html": [
       "Installing package Deedle....done!"
      ]
     },
     "metadata": {},
     "output_type": "display_data"
    },
    {
     "data": {
      "text/html": [
       "Successfully added reference to package Deedle, version 2.1.0"
      ]
     },
     "metadata": {},
     "output_type": "display_data"
    },
    {
     "data": {
      "text/html": [
       "Installing package DotNetZip....done!"
      ]
     },
     "metadata": {},
     "output_type": "display_data"
    },
    {
     "data": {
      "text/html": [
       "Successfully added reference to package DotNetZip, version 1.13.4"
      ]
     },
     "metadata": {},
     "output_type": "display_data"
    },
    {
     "data": {
      "text/html": [
       "Installing package NodaTime....done!"
      ]
     },
     "metadata": {},
     "output_type": "display_data"
    },
    {
     "data": {
      "text/html": [
       "Successfully added reference to package NodaTime, version 2.4.7"
      ]
     },
     "metadata": {},
     "output_type": "display_data"
    }
   ],
   "source": [
    "#r \"nuget:XPlot.Plotly\"\n",
    "#r \"nuget:Deedle\"\n",
    "#r \"nuget:DotNetZip\"\n",
    "#r \"nuget:NodaTime\""
   ]
  },
  {
   "cell_type": "markdown",
   "metadata": {},
   "source": [
    "**Type in password**"
   ]
  },
  {
   "cell_type": "code",
   "execution_count": 2,
   "metadata": {},
   "outputs": [],
   "source": [
    "var password = \"type password here\";"
   ]
  },
  {
   "cell_type": "code",
   "execution_count": 3,
   "metadata": {},
   "outputs": [],
   "source": [
    "using System.Linq;\n",
    "using System.Collections.Generic;\n",
    "\n",
    "(string, int[])[] SingleLineSource(string folder, int lineName) => new[] { (folder, new[] { lineName }), };\n",
    "(string, int[])[] AllLinesSource() => \n",
    "    new[]\n",
    "    {\n",
    "        (\"BadLines\",       new[] { 490, 675, 677, 681, 671 } ),\n",
    "        (\"GoodLines\",      new[] { 783, 834, 782, 837, 785 } ),\n",
    "        (\"InnerCityLines\", new[] { 403, 505, 216, 906, 302 } ),\n",
    "    };"
   ]
  },
  {
   "cell_type": "markdown",
   "metadata": {},
   "source": [
    "**Decide if you want to play with a single line or all of them at once. Use corresponding line of code.**"
   ]
  },
  {
   "cell_type": "code",
   "execution_count": 73,
   "metadata": {},
   "outputs": [],
   "source": [
    "var sources = SingleLineSource(\"BadLines\", 490);\n",
    "//var sources = AllLinesSource();"
   ]
  },
  {
   "cell_type": "code",
   "execution_count": 74,
   "metadata": {},
   "outputs": [],
   "source": [
    "//var stops = new string[] { \"40866\" };\n",
    "var stops = new string[] {};"
   ]
  },
  {
   "cell_type": "markdown",
   "metadata": {},
   "source": [
    "Main code"
   ]
  },
  {
   "cell_type": "code",
   "execution_count": 78,
   "metadata": {},
   "outputs": [],
   "source": [
    "using Deedle;\n",
    "using Ionic.Zip;\n",
    "using System.IO;\n",
    "using System;\n",
    "using System.Globalization;\n",
    "using NodaTime;\n",
    "\n",
    "var tz = DateTimeZoneProviders.Tzdb.GetZoneOrNull(\"Australia/Melbourne\");\n",
    "\n",
    "Frame<int, string> LoadData(string folder, string lineName, string[] stops)\n",
    "{\n",
    "    var zip = ZipFile.Read(string.Format(@\"Data/Samples/{1}/Departures-{0}.zip\", lineName, folder));\n",
    "    zip.Password = password;\n",
    "    using (var stream = zip.Entries.First().OpenReader())\n",
    "    {\n",
    "        var frame = \n",
    "            Frame\n",
    "                .ReadCsv(stream)\n",
    "                .Where(kvp => !string.IsNullOrEmpty(kvp.Value.GetAs<string>(\"ScheduledArrivalTime\")))\n",
    "                .Where(kvp => stops.Length == 0 || stops.Contains(kvp.Value.GetAs<string>(\"IrsStopCode\")));\n",
    "\n",
    "        display($\"Successfully read data: {frame.RowCount} records\");\n",
    "\n",
    "        var sa = frame.GetColumn<string>(\"ScheduledArrivalTime\").Values.ToArray();\n",
    "        var aa = frame.GetColumn<string>(\"ArrivalTime\").Values.ToArray();\n",
    "        var deviation = sa.Select((s, i) => (int)(DateTime.Parse(aa[i]) - DateTime.Parse(s)).TotalSeconds).ToArray();\n",
    "        frame.AddColumn(\"Deviation\", deviation);    \n",
    "        var operatingDay = frame.GetColumn<DateTime>(\"OperatingDay\").Values.Select(x => new LocalDate(x.Year, x.Month, x.Day)).ToArray();\n",
    "        frame.AddColumn(\"OperatingDayNT\", operatingDay); \n",
    "        var scheduledTimeZoned = frame.GetColumn<string>(\"ScheduledArrivalTime\").Values.Select(x => DateTime.Parse(x, styles: DateTimeStyles.AdjustToUniversal)).Select(Instant.FromDateTimeUtc).Select(x => x.InZone(tz)).ToArray();\n",
    "        frame.AddColumn(\"ScheduledTimeZoned\", scheduledTimeZoned);    \n",
    "\n",
    "        return frame;\n",
    "    }\n",
    "}"
   ]
  },
  {
   "cell_type": "code",
   "execution_count": 79,
   "metadata": {},
   "outputs": [],
   "source": [
    "public class StatsValues\n",
    "{\n",
    "    public double Min      { get; set; }\n",
    "    public double Max      { get; set; }\n",
    "    public double Mean     { get; set; }\n",
    "    public double Median   { get; set; }\n",
    "    public double StdDev   { get; set; }\n",
    "    public double NumberOfValues { get; set; }\n",
    "}\n",
    "\n",
    "public class NamedStatsValues : StatsValues\n",
    "{\n",
    "    public string LineName { get; set; }\n",
    "    public string Title1   { get; set; }\n",
    "    public string Title2   { get; set; }\n",
    "    public string Title3   { get; set; }\n",
    "    public string Title4   { get; set; }\n",
    "}\n",
    "\n",
    "NamedStatsValues CalcStats(Series<int, int> series, string lineName, string title1 = null, string title2 = null, string title3 = null, string title4 = null) => new NamedStatsValues \n",
    "{\n",
    "    Min      = Math.Round(Stats.min(series)),\n",
    "    Max      = Math.Round(Stats.max(series)),\n",
    "    Mean     = Math.Round(Stats.mean(series)),\n",
    "    StdDev   = Math.Round(Stats.stdDev(series)),\n",
    "    Median   = Math.Round(Stats.median(series)),\n",
    "    NumberOfValues = series.Values.Count(),\n",
    "    LineName = lineName,\n",
    "    Title1   = title1,\n",
    "    Title2   = title2,\n",
    "    Title3   = title3,\n",
    "    Title4   = title4,\n",
    "};"
   ]
  },
  {
   "cell_type": "code",
   "execution_count": 81,
   "metadata": {},
   "outputs": [
    {
     "data": {
      "text/plain": [
       "Successfully read data: 16114 records"
      ]
     },
     "metadata": {},
     "output_type": "display_data"
    },
    {
     "data": {
      "text/plain": [
       "All Loaded!"
      ]
     },
     "metadata": {},
     "output_type": "display_data"
    }
   ],
   "source": [
    "var allFrames =\n",
    "    sources\n",
    "        .SelectMany(x => x.Item2.Select(ln => new { folder = x.Item1, lineName = ln.ToString() }))\n",
    "        .ToArray()\n",
    "        .Select(x => new { frame = LoadData(x.folder, x.lineName, stops), x.folder, x.lineName })\n",
    "        .ToDictionary(x => x.lineName);\n",
    "display(\"All Loaded!\");"
   ]
  },
  {
   "cell_type": "code",
   "execution_count": 58,
   "metadata": {},
   "outputs": [
    {
     "data": {
      "text/html": [
       "<table><thead><tr><th><i>index</i></th><th>LineName</th><th>Title1</th><th>Title2</th><th>Title3</th><th>Title4</th><th>Min</th><th>Max</th><th>Mean</th><th>Median</th><th>StdDev</th><th>NumberOfValues</th></tr></thead><tbody><tr><td>0</td><td>490</td><td>BadLines</td><td>&lt;null&gt;</td><td>&lt;null&gt;</td><td>&lt;null&gt;</td><td>-94</td><td>2203</td><td>138</td><td>119</td><td>165</td><td>328</td></tr></tbody></table>"
      ]
     },
     "metadata": {},
     "output_type": "display_data"
    }
   ],
   "source": [
    "var allStats = \n",
    "    allFrames\n",
    "        .Values\n",
    "        .Select(x => CalcStats(x.frame.GetColumn<int>(\"Deviation\"), x.lineName, x.folder))\n",
    "        .OrderBy(x => x.StdDev)\n",
    "        .ToArray();\n",
    "display(allStats);\n",
    "var allStatsFrame = Frame.FromRecords(allStats);"
   ]
  },
  {
   "cell_type": "code",
   "execution_count": 59,
   "metadata": {},
   "outputs": [],
   "source": [
    "(int, double, double) CalcBuckets(Series<int, int> series)\n",
    "{\n",
    "    var stats = CalcStats(series, \"\", \"\");\n",
    "    var bucketsNumber = 100;\n",
    "    var bucketSize = (double)(stats.Max - stats.Min) / bucketsNumber;\n",
    "\n",
    "    int getBucket(int value) => (int)(((double)value - stats.Min) / bucketSize);\n",
    "\n",
    "    var distribution = series.GroupBy(kvp => getBucket(kvp.Value)).Select(kvp => kvp.Value.KeyCount);\n",
    "    var maxBucket = distribution.Values.Max();    \n",
    "    \n",
    "    return (bucketsNumber, bucketSize, maxBucket);\n",
    "}"
   ]
  },
  {
   "cell_type": "markdown",
   "metadata": {},
   "source": [
    "Filtering function"
   ]
  },
  {
   "cell_type": "code",
   "execution_count": 60,
   "metadata": {},
   "outputs": [],
   "source": [
    "static Frame<int, string> Filter(this Frame<int, string> frame, params Func<KeyValuePair<int, ObjectSeries<string>>, bool>[] conditions)\n",
    "{\n",
    "    var result = frame;\n",
    "    foreach (var condition in conditions)\n",
    "        result = result.Where(condition);\n",
    "\n",
    "    return result;\n",
    "}"
   ]
  },
  {
   "cell_type": "code",
   "execution_count": 61,
   "metadata": {},
   "outputs": [],
   "source": [
    "using XPlot.Plotly;\n",
    "\n",
    "PlotlyChart MakePlot(Series<int, int> series, string forWhat, int w, int h)\n",
    "{\n",
    "    var title = $\"Deviation from Schedule (sec) for {forWhat}\";\n",
    "    \n",
    "    var stats = CalcStats(series, \"\", \"\");\n",
    "    var (bucketsNumber, bucketSize, maxBucket) = CalcBuckets(series);\n",
    "    \n",
    "    display(stats);\n",
    "    \n",
    "    var hist = \n",
    "        new Graph.Histogram\n",
    "        {\n",
    "            x = series.Values, \n",
    "            xbins   = new Graph.Xbins { start = stats.Min, end = stats.Max, size = bucketSize }, \n",
    "            marker  = new Graph.Marker { color = \"yellow\", line = new Graph.Line { color = \"gray\", width = 1 }},\n",
    "            opacity = 0.75, \n",
    "            name = \"Distribution\"\n",
    "        };\n",
    "\n",
    "    var zero   = new Graph.Scatter { name = \"Zero\",   x = new[] { 0, 0 }, y = new[] { 0, maxBucket }, };\n",
    "    var mean   = new Graph.Scatter { name = \"Mean\",   x = new[] { stats.Mean, stats.Mean }, y = new[] { 0, maxBucket }, };\n",
    "    var median = new Graph.Scatter { name = \"Median\", x = new[] { stats.Median, stats.Median }, y = new[] { 0, maxBucket }, };\n",
    "\n",
    "    var stdDev = \n",
    "        new Graph.Scatter\n",
    "        {\n",
    "            x = new[] { stats.Mean-stats.StdDev, stats.Mean-stats.StdDev, stats.Mean+stats.StdDev, stats.Mean+stats.StdDev },\n",
    "            y = new[] { maxBucket, 0, 0, maxBucket },\n",
    "            name = \"StdDev\",\n",
    "        };\n",
    "\n",
    "    var traces = new Graph.Trace[] { hist, mean, median, stdDev, zero };\n",
    "\n",
    "    var plot = Chart.Plot(traces);  \n",
    "    plot.WithXTitle(\"Deviation\");\n",
    "    plot.WithYTitle(\"Numner of arrivals\");\n",
    "    plot.WithTitle(title);\n",
    "    plot.WithWidth(w);\n",
    "    plot.WithHeight(h);\n",
    "    return plot;\n",
    "}"
   ]
  },
  {
   "cell_type": "code",
   "execution_count": 62,
   "metadata": {},
   "outputs": [],
   "source": [
    "static LocalDate toLocalDate(this DateTime dt) => new LocalDate(dt.Year, dt.Month, dt.Day);\n",
    "\n",
    "(Frame<int, string>, string) GetFrame(string lineName = null)\n",
    "{\n",
    "    var (frame, folder, lineName2) = \n",
    "        lineName != null \n",
    "        ? (allFrames[lineName].frame, allFrames[lineName].folder, allFrames[lineName].lineName)\n",
    "        : (allFrames.First().Value.frame, allFrames.First().Value.folder, allFrames.First().Value.lineName);\n",
    "    \n",
    "    var title = $\"{lineName2}, {folder}\";\n",
    "    \n",
    "    return (frame, title);\n",
    "}\n",
    "\n",
    "(Frame<int, string>, string) PrepareFrame((Frame<int, string>, string) frameAndTitle, int? direction = null, int? stopCode = null, int? dayOfWeek = null, int? hrFrom = null, int? hrTo = null)\n",
    "{\n",
    "    var (frame, title) = frameAndTitle;\n",
    "    var sw = System.Diagnostics.Stopwatch.StartNew();\n",
    "    if (direction != null)\n",
    "    {\n",
    "        title += $\" Direction {direction}\";\n",
    "        frame = frame.Filter(\n",
    "            kvp => kvp.Value.GetAs<int>(\"Direction\") == direction.Value);\n",
    "    }\n",
    "    if (stopCode != null)\n",
    "    {\n",
    "        title += $\" StopCode {stopCode}\";\n",
    "        frame = frame.Filter(\n",
    "            kvp => kvp.Value.GetAs<int>(\"IrsStopCode\") == stopCode.Value);\n",
    "    }\n",
    "    if (dayOfWeek != null)\n",
    "    {\n",
    "        title += $\" {(IsoDayOfWeek)dayOfWeek.Value}\";\n",
    "        frame = frame.Filter(\n",
    "            kvp => kvp.Value.GetAs<LocalDate>(\"OperatingDayNT\").DayOfWeek == (IsoDayOfWeek)(dayOfWeek.Value));\n",
    "    }\n",
    "    if (hrFrom != null)\n",
    "    {\n",
    "        title += $\" {hrFrom} -\";\n",
    "        frame = frame.Filter(\n",
    "            kvp => kvp.Value.GetAs<ZonedDateTime>(\"ScheduledTimeZoned\").Hour >= hrFrom.Value);\n",
    "    }\n",
    "    if (hrTo != null)\n",
    "    {\n",
    "        title += $\"- {hrTo}\";\n",
    "        frame = frame.Filter(\n",
    "            kvp => kvp.Value.GetAs<ZonedDateTime>(\"ScheduledTimeZoned\").Hour < hrTo.Value);\n",
    "    }\n",
    "\n",
    "    display($\"Prepared {frame.RowCount} in {sw.ElapsedMilliseconds} ms\");\n",
    "    return (frame, title.Trim());\n",
    "}\n",
    "\n",
    "PlotlyChart CreatePlot((Frame<int, string>, string) frameAndTitle, int? w = null, int? h = null)\n",
    "{\n",
    "    var (frame, title) = frameAndTitle;\n",
    "    var deviationSeries = frame.GetColumn<int>(\"Deviation\");\n",
    "    var plot = MakePlot(deviationSeries, title, w ?? 800, h ?? 600);\n",
    "    return plot;\n",
    "}\n"
   ]
  },
  {
   "cell_type": "markdown",
   "metadata": {},
   "source": [
    "**If no parameters specified, the first loaded line will be used**\n",
    "\n",
    "**You can specify lineName, direction, stopCode for analysis plots**\n",
    "\n",
    "**To see the list of available stopCodes use the last cell of the notebook**"
   ]
  },
  {
   "cell_type": "code",
   "execution_count": 63,
   "metadata": {},
   "outputs": [
    {
     "data": {
      "text/plain": [
       "Prepared 328 in 0 ms"
      ]
     },
     "metadata": {},
     "output_type": "display_data"
    },
    {
     "data": {
      "text/html": [
       "<table><thead><tr><th>LineName</th><th>Title1</th><th>Title2</th><th>Title3</th><th>Title4</th><th>Min</th><th>Max</th><th>Mean</th><th>Median</th><th>StdDev</th><th>NumberOfValues</th></tr></thead><tbody><tr><td></td><td></td><td>&lt;null&gt;</td><td>&lt;null&gt;</td><td>&lt;null&gt;</td><td>-94</td><td>2203</td><td>138</td><td>119</td><td>165</td><td>328</td></tr></tbody></table>"
      ]
     },
     "metadata": {},
     "output_type": "display_data"
    },
    {
     "data": {
      "text/html": [
       "<div id=\"e25affb5-0fbc-4fbd-9042-40d8fb6f6090\" style=\"width: 800px; height: 600px;\"></div><script type=\"text/javascript\">\r\n",
       "\r\n",
       "var renderPlotly = function() {\r\n",
       "    var xplotRequire = requirejs.config({context:'xplot-2.0.0',paths:{plotly:'https://cdn.plot.ly/plotly-1.49.2.min'}});\r\n",
       "    xplotRequire(['plotly'], function(Plotly) {\r\n",
       "\n",
       "            var data = [{\"type\":\"histogram\",\"opacity\":0.75,\"x\":[59,-25,187,235,100,51,306,122,246,90,85,112,175,197,-44,143,141,92,45,-43,275,188,-41,108,187,113,-94,481,304,287,165,64,188,277,93,179,78,151,247,229,134,150,-16,173,-28,9,196,19,67,21,138,134,-50,70,161,-50,-58,256,23,0,219,275,9,59,-16,74,227,339,260,238,78,-37,288,79,97,57,-7,289,75,105,20,346,16,47,65,381,202,225,-16,23,110,34,94,156,29,17,-94,-13,16,138,44,-42,17,9,314,431,-8,218,48,38,179,365,198,0,13,213,-9,-38,27,307,196,55,157,83,30,86,148,170,135,15,124,257,35,73,485,442,34,139,58,58,206,311,2203,148,37,378,136,111,253,128,208,98,55,297,168,139,340,238,128,107,-8,-38,180,146,151,132,186,93,-9,-16,192,21,193,36,86,144,24,387,146,-41,241,187,181,-10,44,522,277,113,-92,24,104,185,-13,114,-7,12,38,-19,260,106,8,63,301,230,118,86,-9,115,221,16,-89,-34,311,196,132,178,108,85,165,93,52,218,42,23,24,486,299,387,176,36,-11,191,151,159,17,307,115,345,60,80,-10,15,121,48,179,-14,158,275,77,77,182,107,285,96,77,184,23,97,217,80,-91,245,360,318,88,126,486,134,88,331,120,158,-37,145,177,77,232,227,96,20,242,191,219,136,20,89,-85,224,193,213,36,56,30,103,160,253,190,328,132,343,43,141,177,207,56,46,175,74,237,164,246,66,337,244,131,155,225,118,210,357,17,-18,-9,248,242,416,149,74],\"marker\":{\"color\":\"yellow\",\"line\":{\"color\":\"gray\",\"width\":1}},\"xbins\":{\"start\":-94.0,\"end\":2203.0,\"size\":22.97},\"name\":\"Distribution\"},{\"type\":\"scatter\",\"x\":[138.0,138.0],\"y\":[0.0,25.0],\"name\":\"Mean\"},{\"type\":\"scatter\",\"x\":[119.0,119.0],\"y\":[0.0,25.0],\"name\":\"Median\"},{\"type\":\"scatter\",\"x\":[-27.0,-27.0,303.0,303.0],\"y\":[25.0,0.0,0.0,25.0],\"name\":\"StdDev\"},{\"type\":\"scatter\",\"x\":[0,0],\"y\":[0.0,25.0],\"name\":\"Zero\"}];\n",
       "            var layout = {\"title\":\"Deviation from Schedule (sec) for 490, BadLines\",\"xaxis\":{\"title\":\"Deviation\",\"_isSubplotObj\":true},\"yaxis\":{\"title\":\"Numner of arrivals\",\"_isSubplotObj\":true}};\n",
       "            Plotly.newPlot('e25affb5-0fbc-4fbd-9042-40d8fb6f6090', data, layout);\n",
       "        });\r\n",
       "};\r\n",
       "if ((typeof(requirejs) !==  typeof(Function)) || (typeof(requirejs.config) !== typeof(Function))) { \r\n",
       "    var script = document.createElement(\"script\"); \r\n",
       "    script.setAttribute(\"src\", \"https://cdnjs.cloudflare.com/ajax/libs/require.js/2.3.6/require.min.js\"); \r\n",
       "    script.onload = function(){\r\n",
       "        renderPlotly();\r\n",
       "    };\r\n",
       "    document.getElementsByTagName(\"head\")[0].appendChild(script); \r\n",
       "}\r\n",
       "else {\r\n",
       "    renderPlotly();\r\n",
       "}\r\n",
       "</script>"
      ]
     },
     "metadata": {},
     "output_type": "display_data"
    }
   ],
   "source": [
    "display(CreatePlot(PrepareFrame(GetFrame())));\n",
    "\n",
    "\n",
    "//display(CreatePlot(dayOfWeek: 6));\n",
    "//display(CreatePlot(\"837\"));\n",
    "//display(CreatePlot(stopCode: 40866));"
   ]
  },
  {
   "cell_type": "code",
   "execution_count": 64,
   "metadata": {},
   "outputs": [
    {
     "data": {
      "text/plain": [
       "Prepared 75 in 4 ms"
      ]
     },
     "metadata": {},
     "output_type": "display_data"
    },
    {
     "data": {
      "text/plain": [
       "Prepared 26 in 6 ms"
      ]
     },
     "metadata": {},
     "output_type": "display_data"
    },
    {
     "data": {
      "text/plain": [
       "Prepared 20 in 11 ms"
      ]
     },
     "metadata": {},
     "output_type": "display_data"
    },
    {
     "data": {
      "text/plain": [
       "Prepared 26 in 13 ms"
      ]
     },
     "metadata": {},
     "output_type": "display_data"
    },
    {
     "data": {
      "text/plain": [
       "Prepared 3 in 4 ms"
      ]
     },
     "metadata": {},
     "output_type": "display_data"
    },
    {
     "data": {
      "text/plain": [
       "Prepared 53 in 9 ms"
      ]
     },
     "metadata": {},
     "output_type": "display_data"
    },
    {
     "data": {
      "text/plain": [
       "Prepared 26 in 6 ms"
      ]
     },
     "metadata": {},
     "output_type": "display_data"
    },
    {
     "data": {
      "text/plain": [
       "Prepared 8 in 11 ms"
      ]
     },
     "metadata": {},
     "output_type": "display_data"
    },
    {
     "data": {
      "text/plain": [
       "Prepared 18 in 9 ms"
      ]
     },
     "metadata": {},
     "output_type": "display_data"
    },
    {
     "data": {
      "text/plain": [
       "Prepared 1 in 4 ms"
      ]
     },
     "metadata": {},
     "output_type": "display_data"
    },
    {
     "data": {
      "text/plain": [
       "Prepared 65 in 5 ms"
      ]
     },
     "metadata": {},
     "output_type": "display_data"
    },
    {
     "data": {
      "text/plain": [
       "Prepared 27 in 12 ms"
      ]
     },
     "metadata": {},
     "output_type": "display_data"
    },
    {
     "data": {
      "text/plain": [
       "Prepared 10 in 6 ms"
      ]
     },
     "metadata": {},
     "output_type": "display_data"
    },
    {
     "data": {
      "text/plain": [
       "Prepared 27 in 7 ms"
      ]
     },
     "metadata": {},
     "output_type": "display_data"
    },
    {
     "data": {
      "text/plain": [
       "Prepared 1 in 2 ms"
      ]
     },
     "metadata": {},
     "output_type": "display_data"
    },
    {
     "data": {
      "text/plain": [
       "Prepared 63 in 6 ms"
      ]
     },
     "metadata": {},
     "output_type": "display_data"
    },
    {
     "data": {
      "text/plain": [
       "Prepared 28 in 13 ms"
      ]
     },
     "metadata": {},
     "output_type": "display_data"
    },
    {
     "data": {
      "text/plain": [
       "Prepared 15 in 11 ms"
      ]
     },
     "metadata": {},
     "output_type": "display_data"
    },
    {
     "data": {
      "text/plain": [
       "Prepared 20 in 9 ms"
      ]
     },
     "metadata": {},
     "output_type": "display_data"
    },
    {
     "data": {
      "text/plain": [
       "Prepared 0 in 6 ms"
      ]
     },
     "metadata": {},
     "output_type": "display_data"
    },
    {
     "data": {
      "text/plain": [
       "Prepared 64 in 13 ms"
      ]
     },
     "metadata": {},
     "output_type": "display_data"
    },
    {
     "data": {
      "text/plain": [
       "Prepared 28 in 14 ms"
      ]
     },
     "metadata": {},
     "output_type": "display_data"
    },
    {
     "data": {
      "text/plain": [
       "Prepared 18 in 7 ms"
      ]
     },
     "metadata": {},
     "output_type": "display_data"
    },
    {
     "data": {
      "text/plain": [
       "Prepared 17 in 11 ms"
      ]
     },
     "metadata": {},
     "output_type": "display_data"
    },
    {
     "data": {
      "text/plain": [
       "Prepared 1 in 3 ms"
      ]
     },
     "metadata": {},
     "output_type": "display_data"
    },
    {
     "data": {
      "text/plain": [
       "Prepared 8 in 1 ms"
      ]
     },
     "metadata": {},
     "output_type": "display_data"
    },
    {
     "data": {
      "text/plain": [
       "Prepared 0 in 4 ms"
      ]
     },
     "metadata": {},
     "output_type": "display_data"
    },
    {
     "data": {
      "text/plain": [
       "Prepared 6 in 4 ms"
      ]
     },
     "metadata": {},
     "output_type": "display_data"
    },
    {
     "data": {
      "text/plain": [
       "Prepared 2 in 2 ms"
      ]
     },
     "metadata": {},
     "output_type": "display_data"
    },
    {
     "data": {
      "text/plain": [
       "Prepared 0 in 3 ms"
      ]
     },
     "metadata": {},
     "output_type": "display_data"
    },
    {
     "data": {
      "text/plain": [
       "Prepared 0 in 3 ms"
      ]
     },
     "metadata": {},
     "output_type": "display_data"
    },
    {
     "data": {
      "text/plain": [
       "Prepared 0 in 16 ms"
      ]
     },
     "metadata": {},
     "output_type": "display_data"
    },
    {
     "data": {
      "text/plain": [
       "Prepared 0 in 4 ms"
      ]
     },
     "metadata": {},
     "output_type": "display_data"
    },
    {
     "data": {
      "text/plain": [
       "Prepared 0 in 4 ms"
      ]
     },
     "metadata": {},
     "output_type": "display_data"
    },
    {
     "data": {
      "text/plain": [
       "Prepared 0 in 5 ms"
      ]
     },
     "metadata": {},
     "output_type": "display_data"
    },
    {
     "data": {
      "text/html": [
       "<table><thead><tr><th><i>index</i></th><th>LineName</th><th>Title1</th><th>Title2</th><th>Title3</th><th>Title4</th><th>Min</th><th>Max</th><th>Mean</th><th>Median</th><th>StdDev</th><th>NumberOfValues</th></tr></thead><tbody><tr><td>0</td><td>490</td><td>490, BadLines</td><td>Tuesday</td><td>18 -- 22</td><td>&lt;null&gt;</td><td>287</td><td>287</td><td>287</td><td>287</td><td>NaN</td><td>1</td></tr><tr><td>1</td><td>490</td><td>490, BadLines</td><td>Wednesday</td><td>18 -- 22</td><td>&lt;null&gt;</td><td>16</td><td>16</td><td>16</td><td>16</td><td>NaN</td><td>1</td></tr><tr><td>2</td><td>490</td><td>490, BadLines</td><td>Friday</td><td>18 -- 22</td><td>&lt;null&gt;</td><td>149</td><td>149</td><td>149</td><td>149</td><td>NaN</td><td>1</td></tr><tr><td>3</td><td>490</td><td>490, BadLines</td><td>Saturday</td><td>14 -- 18</td><td>&lt;null&gt;</td><td>44</td><td>74</td><td>59</td><td>59</td><td>21</td><td>2</td></tr><tr><td>4</td><td>490</td><td>490, BadLines</td><td>Saturday</td><td>10 -- 14</td><td>&lt;null&gt;</td><td>-8</td><td>158</td><td>63</td><td>54</td><td>61</td><td>6</td></tr><tr><td>5</td><td>490</td><td>490, BadLines</td><td>Tuesday</td><td>6 -- 10</td><td>&lt;null&gt;</td><td>-94</td><td>213</td><td>44</td><td>44</td><td>66</td><td>26</td></tr><tr><td>6</td><td>490</td><td>490, BadLines</td><td>Monday</td><td>6 -- 10</td><td>&lt;null&gt;</td><td>-41</td><td>218</td><td>50</td><td>40</td><td>73</td><td>26</td></tr><tr><td>7</td><td>490</td><td>490, BadLines</td><td>Wednesday</td><td>6 -- 10</td><td>&lt;null&gt;</td><td>-50</td><td>285</td><td>78</td><td>64</td><td>81</td><td>27</td></tr><tr><td>8</td><td>490</td><td>490, BadLines</td><td>Thursday</td><td>14 -- 18</td><td>&lt;null&gt;</td><td>17</td><td>357</td><td>152</td><td>131</td><td>93</td><td>20</td></tr><tr><td>9</td><td>490</td><td>490, BadLines</td><td>Wednesday</td><td>14 -- 18</td><td>&lt;null&gt;</td><td>-85</td><td>337</td><td>132</td><td>118</td><td>94</td><td>27</td></tr><tr><td>10</td><td>490</td><td>490, BadLines</td><td>Tuesday</td><td>10 -- 14</td><td>&lt;null&gt;</td><td>182</td><td>481</td><td>270</td><td>251</td><td>96</td><td>8</td></tr><tr><td>11</td><td>490</td><td>490, BadLines</td><td>Thursday</td><td>10 -- 14</td><td>&lt;null&gt;</td><td>44</td><td>387</td><td>214</td><td>196</td><td>101</td><td>15</td></tr><tr><td>12</td><td>490</td><td>490, BadLines</td><td>Friday</td><td>6 -- 10</td><td>&lt;null&gt;</td><td>-43</td><td>318</td><td>68</td><td>38</td><td>101</td><td>28</td></tr><tr><td>13</td><td>490</td><td>490, BadLines</td><td>Wednesday</td><td>10 -- 14</td><td>&lt;null&gt;</td><td>23</td><td>378</td><td>218</td><td>192</td><td>102</td><td>10</td></tr><tr><td>14</td><td>490</td><td>490, BadLines</td><td>Friday</td><td>10 -- 14</td><td>&lt;null&gt;</td><td>121</td><td>486</td><td>237</td><td>218</td><td>103</td><td>18</td></tr><tr><td>15</td><td>490</td><td>490, BadLines</td><td>Thursday</td><td>6 -- 10</td><td>&lt;null&gt;</td><td>-94</td><td>311</td><td>73</td><td>82</td><td>111</td><td>28</td></tr><tr><td>16</td><td>490</td><td>490, BadLines</td><td>Monday</td><td>14 -- 18</td><td>&lt;null&gt;</td><td>-92</td><td>442</td><td>148</td><td>148</td><td>119</td><td>26</td></tr><tr><td>17</td><td>490</td><td>490, BadLines</td><td>Monday</td><td>10 -- 14</td><td>&lt;null&gt;</td><td>132</td><td>522</td><td>270</td><td>217</td><td>121</td><td>20</td></tr><tr><td>18</td><td>490</td><td>490, BadLines</td><td>Friday</td><td>14 -- 18</td><td>&lt;null&gt;</td><td>-10</td><td>416</td><td>182</td><td>160</td><td>123</td><td>17</td></tr><tr><td>19</td><td>490</td><td>490, BadLines</td><td>Monday</td><td>18 -- 22</td><td>&lt;null&gt;</td><td>-7</td><td>227</td><td>77</td><td>12</td><td>130</td><td>3</td></tr><tr><td>20</td><td>490</td><td>490, BadLines</td><td>Tuesday</td><td>14 -- 18</td><td>&lt;null&gt;</td><td>21</td><td>2203</td><td>270</td><td>135</td><td>489</td><td>18</td></tr></tbody></table>"
      ]
     },
     "metadata": {},
     "output_type": "display_data"
    }
   ],
   "source": [
    "var statsByDayOfWeek =\n",
    "    allFrames.Keys\n",
    "        .SelectMany(lineName => new[] { 1, 2, 3, 4, 5, 6, 7 }.SelectMany(dow => \n",
    "        {\n",
    "            var (frame, title1) = GetFrame(lineName);\n",
    "            var (frame2, title2) = PrepareFrame((frame, \"\"), dayOfWeek: dow);\n",
    "            return new[] { 6, 10, 14, 18 }.Select(hrFrom =>\n",
    "            {\n",
    "                var (frame3, title3) = PrepareFrame((frame2, \"\"), hrFrom: hrFrom, hrTo: hrFrom+4);\n",
    "                var deviationSeries = frame3.GetColumn<int>(\"Deviation\");\n",
    "                var stats = CalcStats(deviationSeries, lineName, title1, title2, title3);\n",
    "                return stats;\n",
    "            }).\n",
    "            Where(x => !double.IsNaN(x.Min));\n",
    "        }))\n",
    "        .OrderBy(x => x.StdDev)\n",
    "        .ToArray();\n",
    "\n",
    "display(statsByDayOfWeek);"
   ]
  },
  {
   "cell_type": "code",
   "execution_count": 65,
   "metadata": {},
   "outputs": [
    {
     "data": {
      "text/html": [
       "<table><thead><tr><th><i>index</i></th><th>LineName</th><th>Title1</th><th>Title2</th><th>Title3</th><th>Title4</th><th>Min</th><th>Max</th><th>Mean</th><th>Median</th><th>StdDev</th><th>NumberOfValues</th></tr></thead><tbody><tr><td>0</td><td>NumberOfValues</td><td>&lt;null&gt;</td><td>&lt;null&gt;</td><td>&lt;null&gt;</td><td>&lt;null&gt;</td><td>1</td><td>28</td><td>16</td><td>18</td><td>10</td><td>21</td></tr><tr><td>1</td><td>Min</td><td>&lt;null&gt;</td><td>&lt;null&gt;</td><td>&lt;null&gt;</td><td>&lt;null&gt;</td><td>-94</td><td>287</td><td>24</td><td>16</td><td>101</td><td>21</td></tr><tr><td>2</td><td>Max</td><td>&lt;null&gt;</td><td>&lt;null&gt;</td><td>&lt;null&gt;</td><td>&lt;null&gt;</td><td>16</td><td>2203</td><td>394</td><td>318</td><td>436</td><td>21</td></tr><tr><td>3</td><td>Mean</td><td>&lt;null&gt;</td><td>&lt;null&gt;</td><td>&lt;null&gt;</td><td>&lt;null&gt;</td><td>16</td><td>287</td><td>146</td><td>148</td><td>89</td><td>21</td></tr><tr><td>4</td><td>Median</td><td>&lt;null&gt;</td><td>&lt;null&gt;</td><td>&lt;null&gt;</td><td>&lt;null&gt;</td><td>12</td><td>287</td><td>124</td><td>131</td><td>81</td><td>21</td></tr><tr><td>5</td><td>StdDev</td><td>&lt;null&gt;</td><td>&lt;null&gt;</td><td>&lt;null&gt;</td><td>&lt;null&gt;</td><td>21</td><td>489</td><td>116</td><td>101</td><td>97</td><td>18</td></tr></tbody></table>"
      ]
     },
     "metadata": {},
     "output_type": "display_data"
    }
   ],
   "source": [
    "var statsByBucketsFrame = Frame.FromRecords(statsByDayOfWeek);\n",
    "var statsOnStats = \n",
    "    new[] { \"NumberOfValues\", \"Min\", \"Max\", \"Mean\", \"Median\", \"StdDev\" }\n",
    "    .Select(x => CalcStats(statsByBucketsFrame.GetColumn<int>(x), x))\n",
    "    .ToArray();\n",
    "\n",
    "display(statsOnStats);\n"
   ]
  },
  {
   "cell_type": "code",
   "execution_count": 66,
   "metadata": {},
   "outputs": [],
   "source": [
    "(PlotlyChart, double, double, double, double) MakeStatsPlot(Frame<int, string> frame, string subTitle, string horzCol, string vertCol, string groupCol, string textCol, Func<string, string> getColor, int w = 800, int h = 600, double maxX = 0.0, double maxY = 0.0, double minX = 0.0, double minY = 0.0)\n",
    "{\n",
    "    var title = $\"Stats {vertCol}({horzCol})\";\n",
    "\n",
    "    var initX = new[] { minX, maxX };\n",
    "    var initY = new[] { minY, maxY };\n",
    "    \n",
    "    var dots = \n",
    "        frame.Rows.Select(kvp => \n",
    "        {\n",
    "            var x = kvp.Value.GetAs<double>(horzCol);\n",
    "            var y = kvp.Value.GetAs<double>(vertCol);\n",
    "            var key = kvp.Value.GetAs<string>(groupCol);\n",
    "            var text = kvp.Value.GetAs<string>(textCol);\n",
    "            return new { x, y, key, text };\n",
    "        })\n",
    "        .Values\n",
    "        .ToArray();\n",
    "    \n",
    "    maxX = dots.Select(x => x.x).OrderBy(x => x).LastOrDefault();\n",
    "    maxY = dots.Select(x => x.y).OrderBy(x => x).LastOrDefault();\n",
    "    minX = dots.Select(x => x.x).OrderBy(x => x).FirstOrDefault();\n",
    "    minY = dots.Select(x => x.y).OrderBy(x => x).FirstOrDefault();\n",
    "    \n",
    "    display(dots.Length);\n",
    "    \n",
    "    var traces = \n",
    "        dots\n",
    "            .GroupBy(x => x.key)\n",
    "            .Select(g => new Graph.Scatter \n",
    "                    { \n",
    "                        name = g.Key, \n",
    "                        x = g.Select(x => x.x).ToArray(), \n",
    "                        y = g.Select(x => x.y).ToArray(), \n",
    "                        text = g.Select(x => x.text).ToArray(),\n",
    "                        mode = \"markers\", marker = new Graph.Marker { color = getColor(g.Key) } })\n",
    "            .Concat(new[] { new Graph.Scatter { x = initX, y = initY, mode = \"markers\", name = \"aux\" } })\n",
    "            .ToArray();\n",
    "    \n",
    "    var plot = Chart.Plot(traces);  \n",
    "    plot.WithXTitle(horzCol);\n",
    "    plot.WithYTitle(vertCol);\n",
    "    plot.WithTitle($\"{subTitle} - {title}\");\n",
    "    plot.WithWidth(w);\n",
    "    plot.WithHeight(h);\n",
    "    return (plot, maxX, maxY, minX, minY);\n",
    "}"
   ]
  },
  {
   "cell_type": "code",
   "execution_count": 67,
   "metadata": {},
   "outputs": [
    {
     "data": {
      "text/html": [
       "18"
      ]
     },
     "metadata": {},
     "output_type": "display_data"
    },
    {
     "data": {
      "text/html": [
       "<div id=\"5742ba37-1f3a-42a7-bdc6-6a36428c01a9\" style=\"width: 800px; height: 600px;\"></div><script type=\"text/javascript\">\r\n",
       "\r\n",
       "var renderPlotly = function() {\r\n",
       "    var xplotRequire = requirejs.config({context:'xplot-2.0.0',paths:{plotly:'https://cdn.plot.ly/plotly-1.49.2.min'}});\r\n",
       "    xplotRequire(['plotly'], function(Plotly) {\r\n",
       "\n",
       "            var data = [{\"type\":\"scatter\",\"x\":[59.0,63.0],\"y\":[21.0,61.0],\"text\":[\"490, BadLines\",\"490, BadLines\"],\"mode\":\"markers\",\"marker\":{\"color\":\"blue\"},\"name\":\"Saturday\"},{\"type\":\"scatter\",\"x\":[44.0,270.0,270.0],\"y\":[66.0,96.0,489.0],\"text\":[\"490, BadLines\",\"490, BadLines\",\"490, BadLines\"],\"mode\":\"markers\",\"marker\":{\"color\":\"orange\"},\"name\":\"Tuesday\"},{\"type\":\"scatter\",\"x\":[50.0,148.0,270.0,77.0],\"y\":[73.0,119.0,121.0,130.0],\"text\":[\"490, BadLines\",\"490, BadLines\",\"490, BadLines\",\"490, BadLines\"],\"mode\":\"markers\",\"marker\":{\"color\":\"red\"},\"name\":\"Monday\"},{\"type\":\"scatter\",\"x\":[78.0,132.0,218.0],\"y\":[81.0,94.0,102.0],\"text\":[\"490, BadLines\",\"490, BadLines\",\"490, BadLines\"],\"mode\":\"markers\",\"marker\":{\"color\":\"yellow\"},\"name\":\"Wednesday\"},{\"type\":\"scatter\",\"x\":[152.0,214.0,73.0],\"y\":[93.0,101.0,111.0],\"text\":[\"490, BadLines\",\"490, BadLines\",\"490, BadLines\"],\"mode\":\"markers\",\"marker\":{\"color\":\"green\"},\"name\":\"Thursday\"},{\"type\":\"scatter\",\"x\":[68.0,237.0,182.0],\"y\":[101.0,103.0,123.0],\"text\":[\"490, BadLines\",\"490, BadLines\",\"490, BadLines\"],\"mode\":\"markers\",\"marker\":{\"color\":\"cyan\"},\"name\":\"Friday\"},{\"type\":\"scatter\",\"x\":[0.0,0.0],\"y\":[0.0,0.0],\"mode\":\"markers\",\"name\":\"aux\"}];\n",
       "            var layout = {\"title\":\"All Timeframes - Stats StdDev(Mean)\",\"xaxis\":{\"title\":\"Mean\",\"_isSubplotObj\":true},\"yaxis\":{\"title\":\"StdDev\",\"_isSubplotObj\":true}};\n",
       "            Plotly.newPlot('5742ba37-1f3a-42a7-bdc6-6a36428c01a9', data, layout);\n",
       "        });\r\n",
       "};\r\n",
       "if ((typeof(requirejs) !==  typeof(Function)) || (typeof(requirejs.config) !== typeof(Function))) { \r\n",
       "    var script = document.createElement(\"script\"); \r\n",
       "    script.setAttribute(\"src\", \"https://cdnjs.cloudflare.com/ajax/libs/require.js/2.3.6/require.min.js\"); \r\n",
       "    script.onload = function(){\r\n",
       "        renderPlotly();\r\n",
       "    };\r\n",
       "    document.getElementsByTagName(\"head\")[0].appendChild(script); \r\n",
       "}\r\n",
       "else {\r\n",
       "    renderPlotly();\r\n",
       "}\r\n",
       "</script>"
      ]
     },
     "metadata": {},
     "output_type": "display_data"
    },
    {
     "data": {
      "text/html": [
       "5"
      ]
     },
     "metadata": {},
     "output_type": "display_data"
    },
    {
     "data": {
      "text/html": [
       "6"
      ]
     },
     "metadata": {},
     "output_type": "display_data"
    },
    {
     "data": {
      "text/html": [
       "6"
      ]
     },
     "metadata": {},
     "output_type": "display_data"
    },
    {
     "data": {
      "text/html": [
       "1"
      ]
     },
     "metadata": {},
     "output_type": "display_data"
    },
    {
     "data": {
      "text/html": [
       "<div id=\"96d7b301-b8de-4e6f-9910-667dbfdeef09\" style=\"width: 800px; height: 600px;\"></div><script type=\"text/javascript\">\r\n",
       "\r\n",
       "var renderPlotly = function() {\r\n",
       "    var xplotRequire = requirejs.config({context:'xplot-2.0.0',paths:{plotly:'https://cdn.plot.ly/plotly-1.49.2.min'}});\r\n",
       "    xplotRequire(['plotly'], function(Plotly) {\r\n",
       "\n",
       "            var data = [{\"type\":\"scatter\",\"x\":[44.0],\"y\":[66.0],\"text\":[\"490, BadLines\"],\"mode\":\"markers\",\"marker\":{\"color\":\"orange\"},\"name\":\"Tuesday\"},{\"type\":\"scatter\",\"x\":[50.0],\"y\":[73.0],\"text\":[\"490, BadLines\"],\"mode\":\"markers\",\"marker\":{\"color\":\"red\"},\"name\":\"Monday\"},{\"type\":\"scatter\",\"x\":[78.0],\"y\":[81.0],\"text\":[\"490, BadLines\"],\"mode\":\"markers\",\"marker\":{\"color\":\"yellow\"},\"name\":\"Wednesday\"},{\"type\":\"scatter\",\"x\":[68.0],\"y\":[101.0],\"text\":[\"490, BadLines\"],\"mode\":\"markers\",\"marker\":{\"color\":\"cyan\"},\"name\":\"Friday\"},{\"type\":\"scatter\",\"x\":[73.0],\"y\":[111.0],\"text\":[\"490, BadLines\"],\"mode\":\"markers\",\"marker\":{\"color\":\"green\"},\"name\":\"Thursday\"},{\"type\":\"scatter\",\"x\":[44.0,270.0],\"y\":[21.0,489.0],\"mode\":\"markers\",\"name\":\"aux\"}];\n",
       "            var layout = {\"title\":\"6 -- 10 - Stats StdDev(Mean)\",\"xaxis\":{\"title\":\"Mean\",\"_isSubplotObj\":true},\"yaxis\":{\"title\":\"StdDev\",\"_isSubplotObj\":true}};\n",
       "            Plotly.newPlot('96d7b301-b8de-4e6f-9910-667dbfdeef09', data, layout);\n",
       "        });\r\n",
       "};\r\n",
       "if ((typeof(requirejs) !==  typeof(Function)) || (typeof(requirejs.config) !== typeof(Function))) { \r\n",
       "    var script = document.createElement(\"script\"); \r\n",
       "    script.setAttribute(\"src\", \"https://cdnjs.cloudflare.com/ajax/libs/require.js/2.3.6/require.min.js\"); \r\n",
       "    script.onload = function(){\r\n",
       "        renderPlotly();\r\n",
       "    };\r\n",
       "    document.getElementsByTagName(\"head\")[0].appendChild(script); \r\n",
       "}\r\n",
       "else {\r\n",
       "    renderPlotly();\r\n",
       "}\r\n",
       "</script>"
      ]
     },
     "metadata": {},
     "output_type": "display_data"
    },
    {
     "data": {
      "text/html": [
       "<div id=\"2a1cc8bd-416d-46d5-a318-905ad307fab4\" style=\"width: 800px; height: 600px;\"></div><script type=\"text/javascript\">\r\n",
       "\r\n",
       "var renderPlotly = function() {\r\n",
       "    var xplotRequire = requirejs.config({context:'xplot-2.0.0',paths:{plotly:'https://cdn.plot.ly/plotly-1.49.2.min'}});\r\n",
       "    xplotRequire(['plotly'], function(Plotly) {\r\n",
       "\n",
       "            var data = [{\"type\":\"scatter\",\"x\":[63.0],\"y\":[61.0],\"text\":[\"490, BadLines\"],\"mode\":\"markers\",\"marker\":{\"color\":\"blue\"},\"name\":\"Saturday\"},{\"type\":\"scatter\",\"x\":[270.0],\"y\":[96.0],\"text\":[\"490, BadLines\"],\"mode\":\"markers\",\"marker\":{\"color\":\"orange\"},\"name\":\"Tuesday\"},{\"type\":\"scatter\",\"x\":[214.0],\"y\":[101.0],\"text\":[\"490, BadLines\"],\"mode\":\"markers\",\"marker\":{\"color\":\"green\"},\"name\":\"Thursday\"},{\"type\":\"scatter\",\"x\":[218.0],\"y\":[102.0],\"text\":[\"490, BadLines\"],\"mode\":\"markers\",\"marker\":{\"color\":\"yellow\"},\"name\":\"Wednesday\"},{\"type\":\"scatter\",\"x\":[237.0],\"y\":[103.0],\"text\":[\"490, BadLines\"],\"mode\":\"markers\",\"marker\":{\"color\":\"cyan\"},\"name\":\"Friday\"},{\"type\":\"scatter\",\"x\":[270.0],\"y\":[121.0],\"text\":[\"490, BadLines\"],\"mode\":\"markers\",\"marker\":{\"color\":\"red\"},\"name\":\"Monday\"},{\"type\":\"scatter\",\"x\":[44.0,270.0],\"y\":[21.0,489.0],\"mode\":\"markers\",\"name\":\"aux\"}];\n",
       "            var layout = {\"title\":\"10 -- 14 - Stats StdDev(Mean)\",\"xaxis\":{\"title\":\"Mean\",\"_isSubplotObj\":true},\"yaxis\":{\"title\":\"StdDev\",\"_isSubplotObj\":true}};\n",
       "            Plotly.newPlot('2a1cc8bd-416d-46d5-a318-905ad307fab4', data, layout);\n",
       "        });\r\n",
       "};\r\n",
       "if ((typeof(requirejs) !==  typeof(Function)) || (typeof(requirejs.config) !== typeof(Function))) { \r\n",
       "    var script = document.createElement(\"script\"); \r\n",
       "    script.setAttribute(\"src\", \"https://cdnjs.cloudflare.com/ajax/libs/require.js/2.3.6/require.min.js\"); \r\n",
       "    script.onload = function(){\r\n",
       "        renderPlotly();\r\n",
       "    };\r\n",
       "    document.getElementsByTagName(\"head\")[0].appendChild(script); \r\n",
       "}\r\n",
       "else {\r\n",
       "    renderPlotly();\r\n",
       "}\r\n",
       "</script>"
      ]
     },
     "metadata": {},
     "output_type": "display_data"
    },
    {
     "data": {
      "text/html": [
       "<div id=\"586ff1ea-1ffc-47cd-ba45-9174a4ffe5a8\" style=\"width: 800px; height: 600px;\"></div><script type=\"text/javascript\">\r\n",
       "\r\n",
       "var renderPlotly = function() {\r\n",
       "    var xplotRequire = requirejs.config({context:'xplot-2.0.0',paths:{plotly:'https://cdn.plot.ly/plotly-1.49.2.min'}});\r\n",
       "    xplotRequire(['plotly'], function(Plotly) {\r\n",
       "\n",
       "            var data = [{\"type\":\"scatter\",\"x\":[59.0],\"y\":[21.0],\"text\":[\"490, BadLines\"],\"mode\":\"markers\",\"marker\":{\"color\":\"blue\"},\"name\":\"Saturday\"},{\"type\":\"scatter\",\"x\":[152.0],\"y\":[93.0],\"text\":[\"490, BadLines\"],\"mode\":\"markers\",\"marker\":{\"color\":\"green\"},\"name\":\"Thursday\"},{\"type\":\"scatter\",\"x\":[132.0],\"y\":[94.0],\"text\":[\"490, BadLines\"],\"mode\":\"markers\",\"marker\":{\"color\":\"yellow\"},\"name\":\"Wednesday\"},{\"type\":\"scatter\",\"x\":[148.0],\"y\":[119.0],\"text\":[\"490, BadLines\"],\"mode\":\"markers\",\"marker\":{\"color\":\"red\"},\"name\":\"Monday\"},{\"type\":\"scatter\",\"x\":[182.0],\"y\":[123.0],\"text\":[\"490, BadLines\"],\"mode\":\"markers\",\"marker\":{\"color\":\"cyan\"},\"name\":\"Friday\"},{\"type\":\"scatter\",\"x\":[270.0],\"y\":[489.0],\"text\":[\"490, BadLines\"],\"mode\":\"markers\",\"marker\":{\"color\":\"orange\"},\"name\":\"Tuesday\"},{\"type\":\"scatter\",\"x\":[44.0,270.0],\"y\":[21.0,489.0],\"mode\":\"markers\",\"name\":\"aux\"}];\n",
       "            var layout = {\"title\":\"14 -- 18 - Stats StdDev(Mean)\",\"xaxis\":{\"title\":\"Mean\",\"_isSubplotObj\":true},\"yaxis\":{\"title\":\"StdDev\",\"_isSubplotObj\":true}};\n",
       "            Plotly.newPlot('586ff1ea-1ffc-47cd-ba45-9174a4ffe5a8', data, layout);\n",
       "        });\r\n",
       "};\r\n",
       "if ((typeof(requirejs) !==  typeof(Function)) || (typeof(requirejs.config) !== typeof(Function))) { \r\n",
       "    var script = document.createElement(\"script\"); \r\n",
       "    script.setAttribute(\"src\", \"https://cdnjs.cloudflare.com/ajax/libs/require.js/2.3.6/require.min.js\"); \r\n",
       "    script.onload = function(){\r\n",
       "        renderPlotly();\r\n",
       "    };\r\n",
       "    document.getElementsByTagName(\"head\")[0].appendChild(script); \r\n",
       "}\r\n",
       "else {\r\n",
       "    renderPlotly();\r\n",
       "}\r\n",
       "</script>"
      ]
     },
     "metadata": {},
     "output_type": "display_data"
    },
    {
     "data": {
      "text/html": [
       "<div id=\"02c66592-8d17-4dbd-9c57-4b73284721b9\" style=\"width: 800px; height: 600px;\"></div><script type=\"text/javascript\">\r\n",
       "\r\n",
       "var renderPlotly = function() {\r\n",
       "    var xplotRequire = requirejs.config({context:'xplot-2.0.0',paths:{plotly:'https://cdn.plot.ly/plotly-1.49.2.min'}});\r\n",
       "    xplotRequire(['plotly'], function(Plotly) {\r\n",
       "\n",
       "            var data = [{\"type\":\"scatter\",\"x\":[77.0],\"y\":[130.0],\"text\":[\"490, BadLines\"],\"mode\":\"markers\",\"marker\":{\"color\":\"red\"},\"name\":\"Monday\"},{\"type\":\"scatter\",\"x\":[44.0,270.0],\"y\":[21.0,489.0],\"mode\":\"markers\",\"name\":\"aux\"}];\n",
       "            var layout = {\"title\":\"18 -- 22 - Stats StdDev(Mean)\",\"xaxis\":{\"title\":\"Mean\",\"_isSubplotObj\":true},\"yaxis\":{\"title\":\"StdDev\",\"_isSubplotObj\":true}};\n",
       "            Plotly.newPlot('02c66592-8d17-4dbd-9c57-4b73284721b9', data, layout);\n",
       "        });\r\n",
       "};\r\n",
       "if ((typeof(requirejs) !==  typeof(Function)) || (typeof(requirejs.config) !== typeof(Function))) { \r\n",
       "    var script = document.createElement(\"script\"); \r\n",
       "    script.setAttribute(\"src\", \"https://cdnjs.cloudflare.com/ajax/libs/require.js/2.3.6/require.min.js\"); \r\n",
       "    script.onload = function(){\r\n",
       "        renderPlotly();\r\n",
       "    };\r\n",
       "    document.getElementsByTagName(\"head\")[0].appendChild(script); \r\n",
       "}\r\n",
       "else {\r\n",
       "    renderPlotly();\r\n",
       "}\r\n",
       "</script>"
      ]
     },
     "metadata": {},
     "output_type": "display_data"
    }
   ],
   "source": [
    "string getColor(string dow) =>\n",
    "    dow == \"Monday\"    ? \"red\" :\n",
    "    dow == \"Tuesday\"   ? \"orange\" :\n",
    "    dow == \"Wednesday\" ? \"yellow\" :\n",
    "    dow == \"Thursday\"  ? \"green\" :\n",
    "    dow == \"Friday\"    ? \"cyan\" :\n",
    "    dow == \"Saturday\"  ? \"blue\" :\n",
    "    dow == \"Sunday\"    ? \"violet\" :\n",
    "    \"black\";\n",
    "\n",
    "var p = MakeStatsPlot(statsByBucketsFrame, \"All Timeframes\", \"Mean\", \"StdDev\", \"Title2\", \"Title1\", getColor, 800, 600, 0.0, 0.0, 0.0, 0.0);\n",
    "var (plot1, maxx, maxy, minx, miny) = p;\n",
    "display(plot1);\n",
    "\n",
    "var subPlots = new[] { \"6 -- 10\", \"10 -- 14\", \"14 -- 18\", \"18 -- 22\" }\n",
    "    .Select(tf => \n",
    "    {\n",
    "        var frame = statsByBucketsFrame.Where(kvp => kvp.Value.GetAs<string>(\"Title3\") == tf);\n",
    "        var plot = MakeStatsPlot(frame, tf, \"Mean\", \"StdDev\", \"Title2\", \"Title1\", getColor, 800, 600, maxx, maxy, minx, miny).Item1;\n",
    "        return plot;\n",
    "    })\n",
    "    .ToArray();\n",
    "\n",
    "foreach (var sp in subPlots)\n",
    "    display(sp);\n",
    "            "
   ]
  },
  {
   "cell_type": "code",
   "execution_count": 68,
   "metadata": {},
   "outputs": [
    {
     "data": {
      "text/html": [
       "18"
      ]
     },
     "metadata": {},
     "output_type": "display_data"
    },
    {
     "data": {
      "text/html": [
       "<div id=\"3e5ba875-3a9f-4554-ad5e-1c544b801bd9\" style=\"width: 800px; height: 600px;\"></div><script type=\"text/javascript\">\r\n",
       "\r\n",
       "var renderPlotly = function() {\r\n",
       "    var xplotRequire = requirejs.config({context:'xplot-2.0.0',paths:{plotly:'https://cdn.plot.ly/plotly-1.49.2.min'}});\r\n",
       "    xplotRequire(['plotly'], function(Plotly) {\r\n",
       "\n",
       "            var data = [{\"type\":\"scatter\",\"x\":[59.0,152.0,132.0,148.0,182.0,270.0],\"y\":[21.0,93.0,94.0,119.0,123.0,489.0],\"text\":[\"490, BadLines\",\"490, BadLines\",\"490, BadLines\",\"490, BadLines\",\"490, BadLines\",\"490, BadLines\"],\"mode\":\"markers\",\"marker\":{\"color\":\"blue\"},\"name\":\"14 -- 18\"},{\"type\":\"scatter\",\"x\":[63.0,270.0,214.0,218.0,237.0,270.0],\"y\":[61.0,96.0,101.0,102.0,103.0,121.0],\"text\":[\"490, BadLines\",\"490, BadLines\",\"490, BadLines\",\"490, BadLines\",\"490, BadLines\",\"490, BadLines\"],\"mode\":\"markers\",\"marker\":{\"color\":\"yellow\"},\"name\":\"10 -- 14\"},{\"type\":\"scatter\",\"x\":[44.0,50.0,78.0,68.0,73.0],\"y\":[66.0,73.0,81.0,101.0,111.0],\"text\":[\"490, BadLines\",\"490, BadLines\",\"490, BadLines\",\"490, BadLines\",\"490, BadLines\"],\"mode\":\"markers\",\"marker\":{\"color\":\"red\"},\"name\":\"6 -- 10\"},{\"type\":\"scatter\",\"x\":[77.0],\"y\":[130.0],\"text\":[\"490, BadLines\"],\"mode\":\"markers\",\"marker\":{\"color\":\"violet\"},\"name\":\"18 -- 22\"},{\"type\":\"scatter\",\"x\":[0.0,0.0],\"y\":[0.0,0.0],\"mode\":\"markers\",\"name\":\"aux\"}];\n",
       "            var layout = {\"title\":\"All Days Of Week - Stats StdDev(Mean)\",\"xaxis\":{\"title\":\"Mean\",\"_isSubplotObj\":true},\"yaxis\":{\"title\":\"StdDev\",\"_isSubplotObj\":true}};\n",
       "            Plotly.newPlot('3e5ba875-3a9f-4554-ad5e-1c544b801bd9', data, layout);\n",
       "        });\r\n",
       "};\r\n",
       "if ((typeof(requirejs) !==  typeof(Function)) || (typeof(requirejs.config) !== typeof(Function))) { \r\n",
       "    var script = document.createElement(\"script\"); \r\n",
       "    script.setAttribute(\"src\", \"https://cdnjs.cloudflare.com/ajax/libs/require.js/2.3.6/require.min.js\"); \r\n",
       "    script.onload = function(){\r\n",
       "        renderPlotly();\r\n",
       "    };\r\n",
       "    document.getElementsByTagName(\"head\")[0].appendChild(script); \r\n",
       "}\r\n",
       "else {\r\n",
       "    renderPlotly();\r\n",
       "}\r\n",
       "</script>"
      ]
     },
     "metadata": {},
     "output_type": "display_data"
    },
    {
     "data": {
      "text/html": [
       "4"
      ]
     },
     "metadata": {},
     "output_type": "display_data"
    },
    {
     "data": {
      "text/html": [
       "3"
      ]
     },
     "metadata": {},
     "output_type": "display_data"
    },
    {
     "data": {
      "text/html": [
       "3"
      ]
     },
     "metadata": {},
     "output_type": "display_data"
    },
    {
     "data": {
      "text/html": [
       "3"
      ]
     },
     "metadata": {},
     "output_type": "display_data"
    },
    {
     "data": {
      "text/html": [
       "3"
      ]
     },
     "metadata": {},
     "output_type": "display_data"
    },
    {
     "data": {
      "text/html": [
       "2"
      ]
     },
     "metadata": {},
     "output_type": "display_data"
    },
    {
     "data": {
      "text/html": [
       "0"
      ]
     },
     "metadata": {},
     "output_type": "display_data"
    },
    {
     "data": {
      "text/html": [
       "<div id=\"417ca496-ad08-4b1b-bef0-6c063afb05ad\" style=\"width: 800px; height: 600px;\"></div><script type=\"text/javascript\">\r\n",
       "\r\n",
       "var renderPlotly = function() {\r\n",
       "    var xplotRequire = requirejs.config({context:'xplot-2.0.0',paths:{plotly:'https://cdn.plot.ly/plotly-1.49.2.min'}});\r\n",
       "    xplotRequire(['plotly'], function(Plotly) {\r\n",
       "\n",
       "            var data = [{\"type\":\"scatter\",\"x\":[50.0],\"y\":[73.0],\"text\":[\"490, BadLines\"],\"mode\":\"markers\",\"marker\":{\"color\":\"red\"},\"name\":\"6 -- 10\"},{\"type\":\"scatter\",\"x\":[148.0],\"y\":[119.0],\"text\":[\"490, BadLines\"],\"mode\":\"markers\",\"marker\":{\"color\":\"blue\"},\"name\":\"14 -- 18\"},{\"type\":\"scatter\",\"x\":[270.0],\"y\":[121.0],\"text\":[\"490, BadLines\"],\"mode\":\"markers\",\"marker\":{\"color\":\"yellow\"},\"name\":\"10 -- 14\"},{\"type\":\"scatter\",\"x\":[77.0],\"y\":[130.0],\"text\":[\"490, BadLines\"],\"mode\":\"markers\",\"marker\":{\"color\":\"violet\"},\"name\":\"18 -- 22\"},{\"type\":\"scatter\",\"x\":[44.0,270.0],\"y\":[21.0,489.0],\"mode\":\"markers\",\"name\":\"aux\"}];\n",
       "            var layout = {\"title\":\"Monday - Stats StdDev(Mean)\",\"xaxis\":{\"title\":\"Mean\",\"_isSubplotObj\":true},\"yaxis\":{\"title\":\"StdDev\",\"_isSubplotObj\":true}};\n",
       "            Plotly.newPlot('417ca496-ad08-4b1b-bef0-6c063afb05ad', data, layout);\n",
       "        });\r\n",
       "};\r\n",
       "if ((typeof(requirejs) !==  typeof(Function)) || (typeof(requirejs.config) !== typeof(Function))) { \r\n",
       "    var script = document.createElement(\"script\"); \r\n",
       "    script.setAttribute(\"src\", \"https://cdnjs.cloudflare.com/ajax/libs/require.js/2.3.6/require.min.js\"); \r\n",
       "    script.onload = function(){\r\n",
       "        renderPlotly();\r\n",
       "    };\r\n",
       "    document.getElementsByTagName(\"head\")[0].appendChild(script); \r\n",
       "}\r\n",
       "else {\r\n",
       "    renderPlotly();\r\n",
       "}\r\n",
       "</script>"
      ]
     },
     "metadata": {},
     "output_type": "display_data"
    },
    {
     "data": {
      "text/html": [
       "<div id=\"293cff4d-ee31-4f0a-bb33-68cbd8aab561\" style=\"width: 800px; height: 600px;\"></div><script type=\"text/javascript\">\r\n",
       "\r\n",
       "var renderPlotly = function() {\r\n",
       "    var xplotRequire = requirejs.config({context:'xplot-2.0.0',paths:{plotly:'https://cdn.plot.ly/plotly-1.49.2.min'}});\r\n",
       "    xplotRequire(['plotly'], function(Plotly) {\r\n",
       "\n",
       "            var data = [{\"type\":\"scatter\",\"x\":[44.0],\"y\":[66.0],\"text\":[\"490, BadLines\"],\"mode\":\"markers\",\"marker\":{\"color\":\"red\"},\"name\":\"6 -- 10\"},{\"type\":\"scatter\",\"x\":[270.0],\"y\":[96.0],\"text\":[\"490, BadLines\"],\"mode\":\"markers\",\"marker\":{\"color\":\"yellow\"},\"name\":\"10 -- 14\"},{\"type\":\"scatter\",\"x\":[270.0],\"y\":[489.0],\"text\":[\"490, BadLines\"],\"mode\":\"markers\",\"marker\":{\"color\":\"blue\"},\"name\":\"14 -- 18\"},{\"type\":\"scatter\",\"x\":[44.0,270.0],\"y\":[21.0,489.0],\"mode\":\"markers\",\"name\":\"aux\"}];\n",
       "            var layout = {\"title\":\"Tuesday - Stats StdDev(Mean)\",\"xaxis\":{\"title\":\"Mean\",\"_isSubplotObj\":true},\"yaxis\":{\"title\":\"StdDev\",\"_isSubplotObj\":true}};\n",
       "            Plotly.newPlot('293cff4d-ee31-4f0a-bb33-68cbd8aab561', data, layout);\n",
       "        });\r\n",
       "};\r\n",
       "if ((typeof(requirejs) !==  typeof(Function)) || (typeof(requirejs.config) !== typeof(Function))) { \r\n",
       "    var script = document.createElement(\"script\"); \r\n",
       "    script.setAttribute(\"src\", \"https://cdnjs.cloudflare.com/ajax/libs/require.js/2.3.6/require.min.js\"); \r\n",
       "    script.onload = function(){\r\n",
       "        renderPlotly();\r\n",
       "    };\r\n",
       "    document.getElementsByTagName(\"head\")[0].appendChild(script); \r\n",
       "}\r\n",
       "else {\r\n",
       "    renderPlotly();\r\n",
       "}\r\n",
       "</script>"
      ]
     },
     "metadata": {},
     "output_type": "display_data"
    },
    {
     "data": {
      "text/html": [
       "<div id=\"ac440f17-1b59-4cff-a916-2f1f20ba8982\" style=\"width: 800px; height: 600px;\"></div><script type=\"text/javascript\">\r\n",
       "\r\n",
       "var renderPlotly = function() {\r\n",
       "    var xplotRequire = requirejs.config({context:'xplot-2.0.0',paths:{plotly:'https://cdn.plot.ly/plotly-1.49.2.min'}});\r\n",
       "    xplotRequire(['plotly'], function(Plotly) {\r\n",
       "\n",
       "            var data = [{\"type\":\"scatter\",\"x\":[78.0],\"y\":[81.0],\"text\":[\"490, BadLines\"],\"mode\":\"markers\",\"marker\":{\"color\":\"red\"},\"name\":\"6 -- 10\"},{\"type\":\"scatter\",\"x\":[132.0],\"y\":[94.0],\"text\":[\"490, BadLines\"],\"mode\":\"markers\",\"marker\":{\"color\":\"blue\"},\"name\":\"14 -- 18\"},{\"type\":\"scatter\",\"x\":[218.0],\"y\":[102.0],\"text\":[\"490, BadLines\"],\"mode\":\"markers\",\"marker\":{\"color\":\"yellow\"},\"name\":\"10 -- 14\"},{\"type\":\"scatter\",\"x\":[44.0,270.0],\"y\":[21.0,489.0],\"mode\":\"markers\",\"name\":\"aux\"}];\n",
       "            var layout = {\"title\":\"Wednesday - Stats StdDev(Mean)\",\"xaxis\":{\"title\":\"Mean\",\"_isSubplotObj\":true},\"yaxis\":{\"title\":\"StdDev\",\"_isSubplotObj\":true}};\n",
       "            Plotly.newPlot('ac440f17-1b59-4cff-a916-2f1f20ba8982', data, layout);\n",
       "        });\r\n",
       "};\r\n",
       "if ((typeof(requirejs) !==  typeof(Function)) || (typeof(requirejs.config) !== typeof(Function))) { \r\n",
       "    var script = document.createElement(\"script\"); \r\n",
       "    script.setAttribute(\"src\", \"https://cdnjs.cloudflare.com/ajax/libs/require.js/2.3.6/require.min.js\"); \r\n",
       "    script.onload = function(){\r\n",
       "        renderPlotly();\r\n",
       "    };\r\n",
       "    document.getElementsByTagName(\"head\")[0].appendChild(script); \r\n",
       "}\r\n",
       "else {\r\n",
       "    renderPlotly();\r\n",
       "}\r\n",
       "</script>"
      ]
     },
     "metadata": {},
     "output_type": "display_data"
    },
    {
     "data": {
      "text/html": [
       "<div id=\"1f9b3c1c-2d30-4e92-8aee-655a94143ecd\" style=\"width: 800px; height: 600px;\"></div><script type=\"text/javascript\">\r\n",
       "\r\n",
       "var renderPlotly = function() {\r\n",
       "    var xplotRequire = requirejs.config({context:'xplot-2.0.0',paths:{plotly:'https://cdn.plot.ly/plotly-1.49.2.min'}});\r\n",
       "    xplotRequire(['plotly'], function(Plotly) {\r\n",
       "\n",
       "            var data = [{\"type\":\"scatter\",\"x\":[152.0],\"y\":[93.0],\"text\":[\"490, BadLines\"],\"mode\":\"markers\",\"marker\":{\"color\":\"blue\"},\"name\":\"14 -- 18\"},{\"type\":\"scatter\",\"x\":[214.0],\"y\":[101.0],\"text\":[\"490, BadLines\"],\"mode\":\"markers\",\"marker\":{\"color\":\"yellow\"},\"name\":\"10 -- 14\"},{\"type\":\"scatter\",\"x\":[73.0],\"y\":[111.0],\"text\":[\"490, BadLines\"],\"mode\":\"markers\",\"marker\":{\"color\":\"red\"},\"name\":\"6 -- 10\"},{\"type\":\"scatter\",\"x\":[44.0,270.0],\"y\":[21.0,489.0],\"mode\":\"markers\",\"name\":\"aux\"}];\n",
       "            var layout = {\"title\":\"Thursday - Stats StdDev(Mean)\",\"xaxis\":{\"title\":\"Mean\",\"_isSubplotObj\":true},\"yaxis\":{\"title\":\"StdDev\",\"_isSubplotObj\":true}};\n",
       "            Plotly.newPlot('1f9b3c1c-2d30-4e92-8aee-655a94143ecd', data, layout);\n",
       "        });\r\n",
       "};\r\n",
       "if ((typeof(requirejs) !==  typeof(Function)) || (typeof(requirejs.config) !== typeof(Function))) { \r\n",
       "    var script = document.createElement(\"script\"); \r\n",
       "    script.setAttribute(\"src\", \"https://cdnjs.cloudflare.com/ajax/libs/require.js/2.3.6/require.min.js\"); \r\n",
       "    script.onload = function(){\r\n",
       "        renderPlotly();\r\n",
       "    };\r\n",
       "    document.getElementsByTagName(\"head\")[0].appendChild(script); \r\n",
       "}\r\n",
       "else {\r\n",
       "    renderPlotly();\r\n",
       "}\r\n",
       "</script>"
      ]
     },
     "metadata": {},
     "output_type": "display_data"
    },
    {
     "data": {
      "text/html": [
       "<div id=\"17745e9a-9843-4bae-af93-7936574c9202\" style=\"width: 800px; height: 600px;\"></div><script type=\"text/javascript\">\r\n",
       "\r\n",
       "var renderPlotly = function() {\r\n",
       "    var xplotRequire = requirejs.config({context:'xplot-2.0.0',paths:{plotly:'https://cdn.plot.ly/plotly-1.49.2.min'}});\r\n",
       "    xplotRequire(['plotly'], function(Plotly) {\r\n",
       "\n",
       "            var data = [{\"type\":\"scatter\",\"x\":[68.0],\"y\":[101.0],\"text\":[\"490, BadLines\"],\"mode\":\"markers\",\"marker\":{\"color\":\"red\"},\"name\":\"6 -- 10\"},{\"type\":\"scatter\",\"x\":[237.0],\"y\":[103.0],\"text\":[\"490, BadLines\"],\"mode\":\"markers\",\"marker\":{\"color\":\"yellow\"},\"name\":\"10 -- 14\"},{\"type\":\"scatter\",\"x\":[182.0],\"y\":[123.0],\"text\":[\"490, BadLines\"],\"mode\":\"markers\",\"marker\":{\"color\":\"blue\"},\"name\":\"14 -- 18\"},{\"type\":\"scatter\",\"x\":[44.0,270.0],\"y\":[21.0,489.0],\"mode\":\"markers\",\"name\":\"aux\"}];\n",
       "            var layout = {\"title\":\"Friday - Stats StdDev(Mean)\",\"xaxis\":{\"title\":\"Mean\",\"_isSubplotObj\":true},\"yaxis\":{\"title\":\"StdDev\",\"_isSubplotObj\":true}};\n",
       "            Plotly.newPlot('17745e9a-9843-4bae-af93-7936574c9202', data, layout);\n",
       "        });\r\n",
       "};\r\n",
       "if ((typeof(requirejs) !==  typeof(Function)) || (typeof(requirejs.config) !== typeof(Function))) { \r\n",
       "    var script = document.createElement(\"script\"); \r\n",
       "    script.setAttribute(\"src\", \"https://cdnjs.cloudflare.com/ajax/libs/require.js/2.3.6/require.min.js\"); \r\n",
       "    script.onload = function(){\r\n",
       "        renderPlotly();\r\n",
       "    };\r\n",
       "    document.getElementsByTagName(\"head\")[0].appendChild(script); \r\n",
       "}\r\n",
       "else {\r\n",
       "    renderPlotly();\r\n",
       "}\r\n",
       "</script>"
      ]
     },
     "metadata": {},
     "output_type": "display_data"
    },
    {
     "data": {
      "text/html": [
       "<div id=\"83c54007-a453-4375-8a7e-2c1bff543edd\" style=\"width: 800px; height: 600px;\"></div><script type=\"text/javascript\">\r\n",
       "\r\n",
       "var renderPlotly = function() {\r\n",
       "    var xplotRequire = requirejs.config({context:'xplot-2.0.0',paths:{plotly:'https://cdn.plot.ly/plotly-1.49.2.min'}});\r\n",
       "    xplotRequire(['plotly'], function(Plotly) {\r\n",
       "\n",
       "            var data = [{\"type\":\"scatter\",\"x\":[59.0],\"y\":[21.0],\"text\":[\"490, BadLines\"],\"mode\":\"markers\",\"marker\":{\"color\":\"blue\"},\"name\":\"14 -- 18\"},{\"type\":\"scatter\",\"x\":[63.0],\"y\":[61.0],\"text\":[\"490, BadLines\"],\"mode\":\"markers\",\"marker\":{\"color\":\"yellow\"},\"name\":\"10 -- 14\"},{\"type\":\"scatter\",\"x\":[44.0,270.0],\"y\":[21.0,489.0],\"mode\":\"markers\",\"name\":\"aux\"}];\n",
       "            var layout = {\"title\":\"Saturday - Stats StdDev(Mean)\",\"xaxis\":{\"title\":\"Mean\",\"_isSubplotObj\":true},\"yaxis\":{\"title\":\"StdDev\",\"_isSubplotObj\":true}};\n",
       "            Plotly.newPlot('83c54007-a453-4375-8a7e-2c1bff543edd', data, layout);\n",
       "        });\r\n",
       "};\r\n",
       "if ((typeof(requirejs) !==  typeof(Function)) || (typeof(requirejs.config) !== typeof(Function))) { \r\n",
       "    var script = document.createElement(\"script\"); \r\n",
       "    script.setAttribute(\"src\", \"https://cdnjs.cloudflare.com/ajax/libs/require.js/2.3.6/require.min.js\"); \r\n",
       "    script.onload = function(){\r\n",
       "        renderPlotly();\r\n",
       "    };\r\n",
       "    document.getElementsByTagName(\"head\")[0].appendChild(script); \r\n",
       "}\r\n",
       "else {\r\n",
       "    renderPlotly();\r\n",
       "}\r\n",
       "</script>"
      ]
     },
     "metadata": {},
     "output_type": "display_data"
    },
    {
     "data": {
      "text/html": [
       "<div id=\"10602a8d-9d46-456f-a459-cf27897167a9\" style=\"width: 800px; height: 600px;\"></div><script type=\"text/javascript\">\r\n",
       "\r\n",
       "var renderPlotly = function() {\r\n",
       "    var xplotRequire = requirejs.config({context:'xplot-2.0.0',paths:{plotly:'https://cdn.plot.ly/plotly-1.49.2.min'}});\r\n",
       "    xplotRequire(['plotly'], function(Plotly) {\r\n",
       "\n",
       "            var data = [{\"type\":\"scatter\",\"x\":[44.0,270.0],\"y\":[21.0,489.0],\"mode\":\"markers\",\"name\":\"aux\"}];\n",
       "            var layout = {\"title\":\"Sunday - Stats StdDev(Mean)\",\"xaxis\":{\"title\":\"Mean\",\"_isSubplotObj\":true},\"yaxis\":{\"title\":\"StdDev\",\"_isSubplotObj\":true}};\n",
       "            Plotly.newPlot('10602a8d-9d46-456f-a459-cf27897167a9', data, layout);\n",
       "        });\r\n",
       "};\r\n",
       "if ((typeof(requirejs) !==  typeof(Function)) || (typeof(requirejs.config) !== typeof(Function))) { \r\n",
       "    var script = document.createElement(\"script\"); \r\n",
       "    script.setAttribute(\"src\", \"https://cdnjs.cloudflare.com/ajax/libs/require.js/2.3.6/require.min.js\"); \r\n",
       "    script.onload = function(){\r\n",
       "        renderPlotly();\r\n",
       "    };\r\n",
       "    document.getElementsByTagName(\"head\")[0].appendChild(script); \r\n",
       "}\r\n",
       "else {\r\n",
       "    renderPlotly();\r\n",
       "}\r\n",
       "</script>"
      ]
     },
     "metadata": {},
     "output_type": "display_data"
    }
   ],
   "source": [
    "string getColorByPeriod(string period) =>\n",
    "    period == \"6 -- 10\"   ? \"red\" :\n",
    "    period == \"10 -- 14\"  ? \"yellow\" :\n",
    "    period == \"14 -- 18\"  ? \"blue\" :\n",
    "    period == \"18 -- 22\"  ? \"violet\" :\n",
    "    \"black\";\n",
    "\n",
    "var p = MakeStatsPlot(statsByBucketsFrame, \"All Days Of Week\", \"Mean\", \"StdDev\", \"Title3\", \"Title1\", getColorByPeriod, 800, 600, 0.0, 0.0, 0.0, 0.0);\n",
    "var (plot1, maxx, maxy, minx, miny) = p;\n",
    "display(plot1);\n",
    "\n",
    "var subPlots = new[] { \"Monday\", \"Tuesday\", \"Wednesday\", \"Thursday\", \"Friday\", \"Saturday\", \"Sunday\" }\n",
    "    .Select(dow => \n",
    "    {\n",
    "        var frame = statsByBucketsFrame.Where(kvp => kvp.Value.GetAs<string>(\"Title2\") == dow);\n",
    "        var plot = MakeStatsPlot(frame, dow, \"Mean\", \"StdDev\", \"Title3\", \"Title1\", getColorByPeriod, 800, 600, maxx, maxy, minx, miny).Item1;\n",
    "        return plot;\n",
    "    })\n",
    "    .ToArray();\n",
    "\n",
    "foreach (var sp in subPlots)\n",
    "    display(sp);\n",
    "            "
   ]
  },
  {
   "cell_type": "code",
   "execution_count": 69,
   "metadata": {},
   "outputs": [
    {
     "data": {
      "text/html": [
       "18"
      ]
     },
     "metadata": {},
     "output_type": "display_data"
    },
    {
     "data": {
      "text/html": [
       "<div id=\"3de8d555-8941-4c86-b707-2ee944f22ef8\" style=\"width: 800px; height: 600px;\"></div><script type=\"text/javascript\">\r\n",
       "\r\n",
       "var renderPlotly = function() {\r\n",
       "    var xplotRequire = requirejs.config({context:'xplot-2.0.0',paths:{plotly:'https://cdn.plot.ly/plotly-1.49.2.min'}});\r\n",
       "    xplotRequire(['plotly'], function(Plotly) {\r\n",
       "\n",
       "            var data = [{\"type\":\"scatter\",\"x\":[59.0,63.0,44.0,50.0,78.0,152.0,132.0,270.0,214.0,68.0,218.0,237.0,73.0,148.0,270.0,182.0,77.0,270.0],\"y\":[21.0,61.0,66.0,73.0,81.0,93.0,94.0,96.0,101.0,101.0,102.0,103.0,111.0,119.0,121.0,123.0,130.0,489.0],\"text\":[\"490, BadLines\",\"490, BadLines\",\"490, BadLines\",\"490, BadLines\",\"490, BadLines\",\"490, BadLines\",\"490, BadLines\",\"490, BadLines\",\"490, BadLines\",\"490, BadLines\",\"490, BadLines\",\"490, BadLines\",\"490, BadLines\",\"490, BadLines\",\"490, BadLines\",\"490, BadLines\",\"490, BadLines\",\"490, BadLines\"],\"mode\":\"markers\",\"marker\":{\"color\":\"red\"},\"name\":\"490, BadLines\"},{\"type\":\"scatter\",\"x\":[0.0,0.0],\"y\":[0.0,0.0],\"mode\":\"markers\",\"name\":\"aux\"}];\n",
       "            var layout = {\"title\":\"All Timeframes - Stats StdDev(Mean)\",\"xaxis\":{\"title\":\"Mean\",\"_isSubplotObj\":true},\"yaxis\":{\"title\":\"StdDev\",\"_isSubplotObj\":true}};\n",
       "            Plotly.newPlot('3de8d555-8941-4c86-b707-2ee944f22ef8', data, layout);\n",
       "        });\r\n",
       "};\r\n",
       "if ((typeof(requirejs) !==  typeof(Function)) || (typeof(requirejs.config) !== typeof(Function))) { \r\n",
       "    var script = document.createElement(\"script\"); \r\n",
       "    script.setAttribute(\"src\", \"https://cdnjs.cloudflare.com/ajax/libs/require.js/2.3.6/require.min.js\"); \r\n",
       "    script.onload = function(){\r\n",
       "        renderPlotly();\r\n",
       "    };\r\n",
       "    document.getElementsByTagName(\"head\")[0].appendChild(script); \r\n",
       "}\r\n",
       "else {\r\n",
       "    renderPlotly();\r\n",
       "}\r\n",
       "</script>"
      ]
     },
     "metadata": {},
     "output_type": "display_data"
    },
    {
     "data": {
      "text/html": [
       "5"
      ]
     },
     "metadata": {},
     "output_type": "display_data"
    },
    {
     "data": {
      "text/html": [
       "6"
      ]
     },
     "metadata": {},
     "output_type": "display_data"
    },
    {
     "data": {
      "text/html": [
       "6"
      ]
     },
     "metadata": {},
     "output_type": "display_data"
    },
    {
     "data": {
      "text/html": [
       "1"
      ]
     },
     "metadata": {},
     "output_type": "display_data"
    },
    {
     "data": {
      "text/html": [
       "<div id=\"adeffe1c-3600-40b6-9d80-883149f0d45e\" style=\"width: 800px; height: 600px;\"></div><script type=\"text/javascript\">\r\n",
       "\r\n",
       "var renderPlotly = function() {\r\n",
       "    var xplotRequire = requirejs.config({context:'xplot-2.0.0',paths:{plotly:'https://cdn.plot.ly/plotly-1.49.2.min'}});\r\n",
       "    xplotRequire(['plotly'], function(Plotly) {\r\n",
       "\n",
       "            var data = [{\"type\":\"scatter\",\"x\":[44.0,50.0,78.0,68.0,73.0],\"y\":[66.0,73.0,81.0,101.0,111.0],\"text\":[\"490, BadLines\",\"490, BadLines\",\"490, BadLines\",\"490, BadLines\",\"490, BadLines\"],\"mode\":\"markers\",\"marker\":{\"color\":\"red\"},\"name\":\"490, BadLines\"},{\"type\":\"scatter\",\"x\":[44.0,270.0],\"y\":[21.0,489.0],\"mode\":\"markers\",\"name\":\"aux\"}];\n",
       "            var layout = {\"title\":\"6 -- 10 - Stats StdDev(Mean)\",\"xaxis\":{\"title\":\"Mean\",\"_isSubplotObj\":true},\"yaxis\":{\"title\":\"StdDev\",\"_isSubplotObj\":true}};\n",
       "            Plotly.newPlot('adeffe1c-3600-40b6-9d80-883149f0d45e', data, layout);\n",
       "        });\r\n",
       "};\r\n",
       "if ((typeof(requirejs) !==  typeof(Function)) || (typeof(requirejs.config) !== typeof(Function))) { \r\n",
       "    var script = document.createElement(\"script\"); \r\n",
       "    script.setAttribute(\"src\", \"https://cdnjs.cloudflare.com/ajax/libs/require.js/2.3.6/require.min.js\"); \r\n",
       "    script.onload = function(){\r\n",
       "        renderPlotly();\r\n",
       "    };\r\n",
       "    document.getElementsByTagName(\"head\")[0].appendChild(script); \r\n",
       "}\r\n",
       "else {\r\n",
       "    renderPlotly();\r\n",
       "}\r\n",
       "</script>"
      ]
     },
     "metadata": {},
     "output_type": "display_data"
    },
    {
     "data": {
      "text/html": [
       "<div id=\"ab6d291d-c236-468b-876f-4c17f04a10ae\" style=\"width: 800px; height: 600px;\"></div><script type=\"text/javascript\">\r\n",
       "\r\n",
       "var renderPlotly = function() {\r\n",
       "    var xplotRequire = requirejs.config({context:'xplot-2.0.0',paths:{plotly:'https://cdn.plot.ly/plotly-1.49.2.min'}});\r\n",
       "    xplotRequire(['plotly'], function(Plotly) {\r\n",
       "\n",
       "            var data = [{\"type\":\"scatter\",\"x\":[63.0,270.0,214.0,218.0,237.0,270.0],\"y\":[61.0,96.0,101.0,102.0,103.0,121.0],\"text\":[\"490, BadLines\",\"490, BadLines\",\"490, BadLines\",\"490, BadLines\",\"490, BadLines\",\"490, BadLines\"],\"mode\":\"markers\",\"marker\":{\"color\":\"red\"},\"name\":\"490, BadLines\"},{\"type\":\"scatter\",\"x\":[44.0,270.0],\"y\":[21.0,489.0],\"mode\":\"markers\",\"name\":\"aux\"}];\n",
       "            var layout = {\"title\":\"10 -- 14 - Stats StdDev(Mean)\",\"xaxis\":{\"title\":\"Mean\",\"_isSubplotObj\":true},\"yaxis\":{\"title\":\"StdDev\",\"_isSubplotObj\":true}};\n",
       "            Plotly.newPlot('ab6d291d-c236-468b-876f-4c17f04a10ae', data, layout);\n",
       "        });\r\n",
       "};\r\n",
       "if ((typeof(requirejs) !==  typeof(Function)) || (typeof(requirejs.config) !== typeof(Function))) { \r\n",
       "    var script = document.createElement(\"script\"); \r\n",
       "    script.setAttribute(\"src\", \"https://cdnjs.cloudflare.com/ajax/libs/require.js/2.3.6/require.min.js\"); \r\n",
       "    script.onload = function(){\r\n",
       "        renderPlotly();\r\n",
       "    };\r\n",
       "    document.getElementsByTagName(\"head\")[0].appendChild(script); \r\n",
       "}\r\n",
       "else {\r\n",
       "    renderPlotly();\r\n",
       "}\r\n",
       "</script>"
      ]
     },
     "metadata": {},
     "output_type": "display_data"
    },
    {
     "data": {
      "text/html": [
       "<div id=\"1634ebf0-4d3e-4bef-8137-e5fcaf8e1d08\" style=\"width: 800px; height: 600px;\"></div><script type=\"text/javascript\">\r\n",
       "\r\n",
       "var renderPlotly = function() {\r\n",
       "    var xplotRequire = requirejs.config({context:'xplot-2.0.0',paths:{plotly:'https://cdn.plot.ly/plotly-1.49.2.min'}});\r\n",
       "    xplotRequire(['plotly'], function(Plotly) {\r\n",
       "\n",
       "            var data = [{\"type\":\"scatter\",\"x\":[59.0,152.0,132.0,148.0,182.0,270.0],\"y\":[21.0,93.0,94.0,119.0,123.0,489.0],\"text\":[\"490, BadLines\",\"490, BadLines\",\"490, BadLines\",\"490, BadLines\",\"490, BadLines\",\"490, BadLines\"],\"mode\":\"markers\",\"marker\":{\"color\":\"red\"},\"name\":\"490, BadLines\"},{\"type\":\"scatter\",\"x\":[44.0,270.0],\"y\":[21.0,489.0],\"mode\":\"markers\",\"name\":\"aux\"}];\n",
       "            var layout = {\"title\":\"14 -- 18 - Stats StdDev(Mean)\",\"xaxis\":{\"title\":\"Mean\",\"_isSubplotObj\":true},\"yaxis\":{\"title\":\"StdDev\",\"_isSubplotObj\":true}};\n",
       "            Plotly.newPlot('1634ebf0-4d3e-4bef-8137-e5fcaf8e1d08', data, layout);\n",
       "        });\r\n",
       "};\r\n",
       "if ((typeof(requirejs) !==  typeof(Function)) || (typeof(requirejs.config) !== typeof(Function))) { \r\n",
       "    var script = document.createElement(\"script\"); \r\n",
       "    script.setAttribute(\"src\", \"https://cdnjs.cloudflare.com/ajax/libs/require.js/2.3.6/require.min.js\"); \r\n",
       "    script.onload = function(){\r\n",
       "        renderPlotly();\r\n",
       "    };\r\n",
       "    document.getElementsByTagName(\"head\")[0].appendChild(script); \r\n",
       "}\r\n",
       "else {\r\n",
       "    renderPlotly();\r\n",
       "}\r\n",
       "</script>"
      ]
     },
     "metadata": {},
     "output_type": "display_data"
    },
    {
     "data": {
      "text/html": [
       "<div id=\"bd3ad2d1-543b-4379-a0c1-a13b07f68f1e\" style=\"width: 800px; height: 600px;\"></div><script type=\"text/javascript\">\r\n",
       "\r\n",
       "var renderPlotly = function() {\r\n",
       "    var xplotRequire = requirejs.config({context:'xplot-2.0.0',paths:{plotly:'https://cdn.plot.ly/plotly-1.49.2.min'}});\r\n",
       "    xplotRequire(['plotly'], function(Plotly) {\r\n",
       "\n",
       "            var data = [{\"type\":\"scatter\",\"x\":[77.0],\"y\":[130.0],\"text\":[\"490, BadLines\"],\"mode\":\"markers\",\"marker\":{\"color\":\"red\"},\"name\":\"490, BadLines\"},{\"type\":\"scatter\",\"x\":[44.0,270.0],\"y\":[21.0,489.0],\"mode\":\"markers\",\"name\":\"aux\"}];\n",
       "            var layout = {\"title\":\"18 -- 22 - Stats StdDev(Mean)\",\"xaxis\":{\"title\":\"Mean\",\"_isSubplotObj\":true},\"yaxis\":{\"title\":\"StdDev\",\"_isSubplotObj\":true}};\n",
       "            Plotly.newPlot('bd3ad2d1-543b-4379-a0c1-a13b07f68f1e', data, layout);\n",
       "        });\r\n",
       "};\r\n",
       "if ((typeof(requirejs) !==  typeof(Function)) || (typeof(requirejs.config) !== typeof(Function))) { \r\n",
       "    var script = document.createElement(\"script\"); \r\n",
       "    script.setAttribute(\"src\", \"https://cdnjs.cloudflare.com/ajax/libs/require.js/2.3.6/require.min.js\"); \r\n",
       "    script.onload = function(){\r\n",
       "        renderPlotly();\r\n",
       "    };\r\n",
       "    document.getElementsByTagName(\"head\")[0].appendChild(script); \r\n",
       "}\r\n",
       "else {\r\n",
       "    renderPlotly();\r\n",
       "}\r\n",
       "</script>"
      ]
     },
     "metadata": {},
     "output_type": "display_data"
    }
   ],
   "source": [
    "string getColorByLineName(string title1) =>\n",
    "    title1.EndsWith(\"GoodLines\")      ? \"blue\" :\n",
    "    title1.EndsWith(\"BadLines\")       ? \"red\" :\n",
    "    title1.EndsWith(\"InnerCityLines\") ? \"yellow\" :\n",
    "    \"black\";\n",
    "\n",
    "var p = MakeStatsPlot(statsByBucketsFrame, \"All Timeframes\", \"Mean\", \"StdDev\", \"Title1\", \"Title1\", getColorByLineName, 800, 600, 0.0, 0.0, 0.0, 0.0);\n",
    "var (plot1, maxx, maxy, minx, miny) = p;\n",
    "display(plot1);\n",
    "\n",
    "var subPlots = new[] { \"6 -- 10\", \"10 -- 14\", \"14 -- 18\", \"18 -- 22\" }\n",
    "    .Select(tf => \n",
    "    {\n",
    "        var frame = statsByBucketsFrame.Where(kvp => kvp.Value.GetAs<string>(\"Title3\") == tf);\n",
    "        var plot = MakeStatsPlot(frame, tf, \"Mean\", \"StdDev\", \"Title1\", \"Title1\", getColorByLineName, 800, 600, maxx, maxy, minx, miny).Item1;\n",
    "        return plot;\n",
    "    })\n",
    "    .ToArray();\n",
    "\n",
    "foreach (var sp in subPlots)\n",
    "    display(sp);\n"
   ]
  },
  {
   "cell_type": "code",
   "execution_count": 70,
   "metadata": {},
   "outputs": [
    {
     "data": {
      "text/html": [
       "18"
      ]
     },
     "metadata": {},
     "output_type": "display_data"
    },
    {
     "data": {
      "text/html": [
       "<div id=\"53c52840-582d-4e62-85bf-58a4f2a30453\" style=\"width: 800px; height: 600px;\"></div><script type=\"text/javascript\">\r\n",
       "\r\n",
       "var renderPlotly = function() {\r\n",
       "    var xplotRequire = requirejs.config({context:'xplot-2.0.0',paths:{plotly:'https://cdn.plot.ly/plotly-1.49.2.min'}});\r\n",
       "    xplotRequire(['plotly'], function(Plotly) {\r\n",
       "\n",
       "            var data = [{\"type\":\"scatter\",\"x\":[59.0,63.0,44.0,50.0,78.0,152.0,132.0,270.0,214.0,68.0,218.0,237.0,73.0,148.0,270.0,182.0,77.0,270.0],\"y\":[21.0,61.0,66.0,73.0,81.0,93.0,94.0,96.0,101.0,101.0,102.0,103.0,111.0,119.0,121.0,123.0,130.0,489.0],\"text\":[\"490, BadLines\",\"490, BadLines\",\"490, BadLines\",\"490, BadLines\",\"490, BadLines\",\"490, BadLines\",\"490, BadLines\",\"490, BadLines\",\"490, BadLines\",\"490, BadLines\",\"490, BadLines\",\"490, BadLines\",\"490, BadLines\",\"490, BadLines\",\"490, BadLines\",\"490, BadLines\",\"490, BadLines\",\"490, BadLines\"],\"mode\":\"markers\",\"marker\":{\"color\":\"red\"},\"name\":\"490, BadLines\"},{\"type\":\"scatter\",\"x\":[0.0,0.0],\"y\":[0.0,0.0],\"mode\":\"markers\",\"name\":\"aux\"}];\n",
       "            var layout = {\"title\":\"All Days Of Week - Stats StdDev(Mean)\",\"xaxis\":{\"title\":\"Mean\",\"_isSubplotObj\":true},\"yaxis\":{\"title\":\"StdDev\",\"_isSubplotObj\":true}};\n",
       "            Plotly.newPlot('53c52840-582d-4e62-85bf-58a4f2a30453', data, layout);\n",
       "        });\r\n",
       "};\r\n",
       "if ((typeof(requirejs) !==  typeof(Function)) || (typeof(requirejs.config) !== typeof(Function))) { \r\n",
       "    var script = document.createElement(\"script\"); \r\n",
       "    script.setAttribute(\"src\", \"https://cdnjs.cloudflare.com/ajax/libs/require.js/2.3.6/require.min.js\"); \r\n",
       "    script.onload = function(){\r\n",
       "        renderPlotly();\r\n",
       "    };\r\n",
       "    document.getElementsByTagName(\"head\")[0].appendChild(script); \r\n",
       "}\r\n",
       "else {\r\n",
       "    renderPlotly();\r\n",
       "}\r\n",
       "</script>"
      ]
     },
     "metadata": {},
     "output_type": "display_data"
    },
    {
     "data": {
      "text/html": [
       "4"
      ]
     },
     "metadata": {},
     "output_type": "display_data"
    },
    {
     "data": {
      "text/html": [
       "3"
      ]
     },
     "metadata": {},
     "output_type": "display_data"
    },
    {
     "data": {
      "text/html": [
       "3"
      ]
     },
     "metadata": {},
     "output_type": "display_data"
    },
    {
     "data": {
      "text/html": [
       "3"
      ]
     },
     "metadata": {},
     "output_type": "display_data"
    },
    {
     "data": {
      "text/html": [
       "3"
      ]
     },
     "metadata": {},
     "output_type": "display_data"
    },
    {
     "data": {
      "text/html": [
       "2"
      ]
     },
     "metadata": {},
     "output_type": "display_data"
    },
    {
     "data": {
      "text/html": [
       "0"
      ]
     },
     "metadata": {},
     "output_type": "display_data"
    },
    {
     "data": {
      "text/html": [
       "<div id=\"e6315e7e-d20b-41e6-a8d4-24f443796696\" style=\"width: 800px; height: 600px;\"></div><script type=\"text/javascript\">\r\n",
       "\r\n",
       "var renderPlotly = function() {\r\n",
       "    var xplotRequire = requirejs.config({context:'xplot-2.0.0',paths:{plotly:'https://cdn.plot.ly/plotly-1.49.2.min'}});\r\n",
       "    xplotRequire(['plotly'], function(Plotly) {\r\n",
       "\n",
       "            var data = [{\"type\":\"scatter\",\"x\":[50.0,148.0,270.0,77.0],\"y\":[73.0,119.0,121.0,130.0],\"text\":[\"490, BadLines\",\"490, BadLines\",\"490, BadLines\",\"490, BadLines\"],\"mode\":\"markers\",\"marker\":{\"color\":\"red\"},\"name\":\"490, BadLines\"},{\"type\":\"scatter\",\"x\":[44.0,270.0],\"y\":[21.0,489.0],\"mode\":\"markers\",\"name\":\"aux\"}];\n",
       "            var layout = {\"title\":\"Monday - Stats StdDev(Mean)\",\"xaxis\":{\"title\":\"Mean\",\"_isSubplotObj\":true},\"yaxis\":{\"title\":\"StdDev\",\"_isSubplotObj\":true}};\n",
       "            Plotly.newPlot('e6315e7e-d20b-41e6-a8d4-24f443796696', data, layout);\n",
       "        });\r\n",
       "};\r\n",
       "if ((typeof(requirejs) !==  typeof(Function)) || (typeof(requirejs.config) !== typeof(Function))) { \r\n",
       "    var script = document.createElement(\"script\"); \r\n",
       "    script.setAttribute(\"src\", \"https://cdnjs.cloudflare.com/ajax/libs/require.js/2.3.6/require.min.js\"); \r\n",
       "    script.onload = function(){\r\n",
       "        renderPlotly();\r\n",
       "    };\r\n",
       "    document.getElementsByTagName(\"head\")[0].appendChild(script); \r\n",
       "}\r\n",
       "else {\r\n",
       "    renderPlotly();\r\n",
       "}\r\n",
       "</script>"
      ]
     },
     "metadata": {},
     "output_type": "display_data"
    },
    {
     "data": {
      "text/html": [
       "<div id=\"39c4ef13-501e-4c17-9a05-80f62920f5e0\" style=\"width: 800px; height: 600px;\"></div><script type=\"text/javascript\">\r\n",
       "\r\n",
       "var renderPlotly = function() {\r\n",
       "    var xplotRequire = requirejs.config({context:'xplot-2.0.0',paths:{plotly:'https://cdn.plot.ly/plotly-1.49.2.min'}});\r\n",
       "    xplotRequire(['plotly'], function(Plotly) {\r\n",
       "\n",
       "            var data = [{\"type\":\"scatter\",\"x\":[44.0,270.0,270.0],\"y\":[66.0,96.0,489.0],\"text\":[\"490, BadLines\",\"490, BadLines\",\"490, BadLines\"],\"mode\":\"markers\",\"marker\":{\"color\":\"red\"},\"name\":\"490, BadLines\"},{\"type\":\"scatter\",\"x\":[44.0,270.0],\"y\":[21.0,489.0],\"mode\":\"markers\",\"name\":\"aux\"}];\n",
       "            var layout = {\"title\":\"Tuesday - Stats StdDev(Mean)\",\"xaxis\":{\"title\":\"Mean\",\"_isSubplotObj\":true},\"yaxis\":{\"title\":\"StdDev\",\"_isSubplotObj\":true}};\n",
       "            Plotly.newPlot('39c4ef13-501e-4c17-9a05-80f62920f5e0', data, layout);\n",
       "        });\r\n",
       "};\r\n",
       "if ((typeof(requirejs) !==  typeof(Function)) || (typeof(requirejs.config) !== typeof(Function))) { \r\n",
       "    var script = document.createElement(\"script\"); \r\n",
       "    script.setAttribute(\"src\", \"https://cdnjs.cloudflare.com/ajax/libs/require.js/2.3.6/require.min.js\"); \r\n",
       "    script.onload = function(){\r\n",
       "        renderPlotly();\r\n",
       "    };\r\n",
       "    document.getElementsByTagName(\"head\")[0].appendChild(script); \r\n",
       "}\r\n",
       "else {\r\n",
       "    renderPlotly();\r\n",
       "}\r\n",
       "</script>"
      ]
     },
     "metadata": {},
     "output_type": "display_data"
    },
    {
     "data": {
      "text/html": [
       "<div id=\"562583f7-70e7-4327-ad36-48dd15bdfbb7\" style=\"width: 800px; height: 600px;\"></div><script type=\"text/javascript\">\r\n",
       "\r\n",
       "var renderPlotly = function() {\r\n",
       "    var xplotRequire = requirejs.config({context:'xplot-2.0.0',paths:{plotly:'https://cdn.plot.ly/plotly-1.49.2.min'}});\r\n",
       "    xplotRequire(['plotly'], function(Plotly) {\r\n",
       "\n",
       "            var data = [{\"type\":\"scatter\",\"x\":[78.0,132.0,218.0],\"y\":[81.0,94.0,102.0],\"text\":[\"490, BadLines\",\"490, BadLines\",\"490, BadLines\"],\"mode\":\"markers\",\"marker\":{\"color\":\"red\"},\"name\":\"490, BadLines\"},{\"type\":\"scatter\",\"x\":[44.0,270.0],\"y\":[21.0,489.0],\"mode\":\"markers\",\"name\":\"aux\"}];\n",
       "            var layout = {\"title\":\"Wednesday - Stats StdDev(Mean)\",\"xaxis\":{\"title\":\"Mean\",\"_isSubplotObj\":true},\"yaxis\":{\"title\":\"StdDev\",\"_isSubplotObj\":true}};\n",
       "            Plotly.newPlot('562583f7-70e7-4327-ad36-48dd15bdfbb7', data, layout);\n",
       "        });\r\n",
       "};\r\n",
       "if ((typeof(requirejs) !==  typeof(Function)) || (typeof(requirejs.config) !== typeof(Function))) { \r\n",
       "    var script = document.createElement(\"script\"); \r\n",
       "    script.setAttribute(\"src\", \"https://cdnjs.cloudflare.com/ajax/libs/require.js/2.3.6/require.min.js\"); \r\n",
       "    script.onload = function(){\r\n",
       "        renderPlotly();\r\n",
       "    };\r\n",
       "    document.getElementsByTagName(\"head\")[0].appendChild(script); \r\n",
       "}\r\n",
       "else {\r\n",
       "    renderPlotly();\r\n",
       "}\r\n",
       "</script>"
      ]
     },
     "metadata": {},
     "output_type": "display_data"
    },
    {
     "data": {
      "text/html": [
       "<div id=\"1d316a16-e107-4579-8706-ca26192af6bc\" style=\"width: 800px; height: 600px;\"></div><script type=\"text/javascript\">\r\n",
       "\r\n",
       "var renderPlotly = function() {\r\n",
       "    var xplotRequire = requirejs.config({context:'xplot-2.0.0',paths:{plotly:'https://cdn.plot.ly/plotly-1.49.2.min'}});\r\n",
       "    xplotRequire(['plotly'], function(Plotly) {\r\n",
       "\n",
       "            var data = [{\"type\":\"scatter\",\"x\":[152.0,214.0,73.0],\"y\":[93.0,101.0,111.0],\"text\":[\"490, BadLines\",\"490, BadLines\",\"490, BadLines\"],\"mode\":\"markers\",\"marker\":{\"color\":\"red\"},\"name\":\"490, BadLines\"},{\"type\":\"scatter\",\"x\":[44.0,270.0],\"y\":[21.0,489.0],\"mode\":\"markers\",\"name\":\"aux\"}];\n",
       "            var layout = {\"title\":\"Thursday - Stats StdDev(Mean)\",\"xaxis\":{\"title\":\"Mean\",\"_isSubplotObj\":true},\"yaxis\":{\"title\":\"StdDev\",\"_isSubplotObj\":true}};\n",
       "            Plotly.newPlot('1d316a16-e107-4579-8706-ca26192af6bc', data, layout);\n",
       "        });\r\n",
       "};\r\n",
       "if ((typeof(requirejs) !==  typeof(Function)) || (typeof(requirejs.config) !== typeof(Function))) { \r\n",
       "    var script = document.createElement(\"script\"); \r\n",
       "    script.setAttribute(\"src\", \"https://cdnjs.cloudflare.com/ajax/libs/require.js/2.3.6/require.min.js\"); \r\n",
       "    script.onload = function(){\r\n",
       "        renderPlotly();\r\n",
       "    };\r\n",
       "    document.getElementsByTagName(\"head\")[0].appendChild(script); \r\n",
       "}\r\n",
       "else {\r\n",
       "    renderPlotly();\r\n",
       "}\r\n",
       "</script>"
      ]
     },
     "metadata": {},
     "output_type": "display_data"
    },
    {
     "data": {
      "text/html": [
       "<div id=\"9d8863d8-07ca-4029-a735-8adb662e0f8b\" style=\"width: 800px; height: 600px;\"></div><script type=\"text/javascript\">\r\n",
       "\r\n",
       "var renderPlotly = function() {\r\n",
       "    var xplotRequire = requirejs.config({context:'xplot-2.0.0',paths:{plotly:'https://cdn.plot.ly/plotly-1.49.2.min'}});\r\n",
       "    xplotRequire(['plotly'], function(Plotly) {\r\n",
       "\n",
       "            var data = [{\"type\":\"scatter\",\"x\":[68.0,237.0,182.0],\"y\":[101.0,103.0,123.0],\"text\":[\"490, BadLines\",\"490, BadLines\",\"490, BadLines\"],\"mode\":\"markers\",\"marker\":{\"color\":\"red\"},\"name\":\"490, BadLines\"},{\"type\":\"scatter\",\"x\":[44.0,270.0],\"y\":[21.0,489.0],\"mode\":\"markers\",\"name\":\"aux\"}];\n",
       "            var layout = {\"title\":\"Friday - Stats StdDev(Mean)\",\"xaxis\":{\"title\":\"Mean\",\"_isSubplotObj\":true},\"yaxis\":{\"title\":\"StdDev\",\"_isSubplotObj\":true}};\n",
       "            Plotly.newPlot('9d8863d8-07ca-4029-a735-8adb662e0f8b', data, layout);\n",
       "        });\r\n",
       "};\r\n",
       "if ((typeof(requirejs) !==  typeof(Function)) || (typeof(requirejs.config) !== typeof(Function))) { \r\n",
       "    var script = document.createElement(\"script\"); \r\n",
       "    script.setAttribute(\"src\", \"https://cdnjs.cloudflare.com/ajax/libs/require.js/2.3.6/require.min.js\"); \r\n",
       "    script.onload = function(){\r\n",
       "        renderPlotly();\r\n",
       "    };\r\n",
       "    document.getElementsByTagName(\"head\")[0].appendChild(script); \r\n",
       "}\r\n",
       "else {\r\n",
       "    renderPlotly();\r\n",
       "}\r\n",
       "</script>"
      ]
     },
     "metadata": {},
     "output_type": "display_data"
    },
    {
     "data": {
      "text/html": [
       "<div id=\"e4bae720-a18d-4240-8a92-e0fce1b37c7d\" style=\"width: 800px; height: 600px;\"></div><script type=\"text/javascript\">\r\n",
       "\r\n",
       "var renderPlotly = function() {\r\n",
       "    var xplotRequire = requirejs.config({context:'xplot-2.0.0',paths:{plotly:'https://cdn.plot.ly/plotly-1.49.2.min'}});\r\n",
       "    xplotRequire(['plotly'], function(Plotly) {\r\n",
       "\n",
       "            var data = [{\"type\":\"scatter\",\"x\":[59.0,63.0],\"y\":[21.0,61.0],\"text\":[\"490, BadLines\",\"490, BadLines\"],\"mode\":\"markers\",\"marker\":{\"color\":\"red\"},\"name\":\"490, BadLines\"},{\"type\":\"scatter\",\"x\":[44.0,270.0],\"y\":[21.0,489.0],\"mode\":\"markers\",\"name\":\"aux\"}];\n",
       "            var layout = {\"title\":\"Saturday - Stats StdDev(Mean)\",\"xaxis\":{\"title\":\"Mean\",\"_isSubplotObj\":true},\"yaxis\":{\"title\":\"StdDev\",\"_isSubplotObj\":true}};\n",
       "            Plotly.newPlot('e4bae720-a18d-4240-8a92-e0fce1b37c7d', data, layout);\n",
       "        });\r\n",
       "};\r\n",
       "if ((typeof(requirejs) !==  typeof(Function)) || (typeof(requirejs.config) !== typeof(Function))) { \r\n",
       "    var script = document.createElement(\"script\"); \r\n",
       "    script.setAttribute(\"src\", \"https://cdnjs.cloudflare.com/ajax/libs/require.js/2.3.6/require.min.js\"); \r\n",
       "    script.onload = function(){\r\n",
       "        renderPlotly();\r\n",
       "    };\r\n",
       "    document.getElementsByTagName(\"head\")[0].appendChild(script); \r\n",
       "}\r\n",
       "else {\r\n",
       "    renderPlotly();\r\n",
       "}\r\n",
       "</script>"
      ]
     },
     "metadata": {},
     "output_type": "display_data"
    },
    {
     "data": {
      "text/html": [
       "<div id=\"27fb3f2b-88f5-40a6-8e86-39fea432e446\" style=\"width: 800px; height: 600px;\"></div><script type=\"text/javascript\">\r\n",
       "\r\n",
       "var renderPlotly = function() {\r\n",
       "    var xplotRequire = requirejs.config({context:'xplot-2.0.0',paths:{plotly:'https://cdn.plot.ly/plotly-1.49.2.min'}});\r\n",
       "    xplotRequire(['plotly'], function(Plotly) {\r\n",
       "\n",
       "            var data = [{\"type\":\"scatter\",\"x\":[44.0,270.0],\"y\":[21.0,489.0],\"mode\":\"markers\",\"name\":\"aux\"}];\n",
       "            var layout = {\"title\":\"Sunday - Stats StdDev(Mean)\",\"xaxis\":{\"title\":\"Mean\",\"_isSubplotObj\":true},\"yaxis\":{\"title\":\"StdDev\",\"_isSubplotObj\":true}};\n",
       "            Plotly.newPlot('27fb3f2b-88f5-40a6-8e86-39fea432e446', data, layout);\n",
       "        });\r\n",
       "};\r\n",
       "if ((typeof(requirejs) !==  typeof(Function)) || (typeof(requirejs.config) !== typeof(Function))) { \r\n",
       "    var script = document.createElement(\"script\"); \r\n",
       "    script.setAttribute(\"src\", \"https://cdnjs.cloudflare.com/ajax/libs/require.js/2.3.6/require.min.js\"); \r\n",
       "    script.onload = function(){\r\n",
       "        renderPlotly();\r\n",
       "    };\r\n",
       "    document.getElementsByTagName(\"head\")[0].appendChild(script); \r\n",
       "}\r\n",
       "else {\r\n",
       "    renderPlotly();\r\n",
       "}\r\n",
       "</script>"
      ]
     },
     "metadata": {},
     "output_type": "display_data"
    }
   ],
   "source": [
    "string getColorByLineName(string title1) =>\n",
    "    title1.EndsWith(\"GoodLines\")      ? \"blue\" :\n",
    "    title1.EndsWith(\"BadLines\")       ? \"red\" :\n",
    "    title1.EndsWith(\"InnerCityLines\") ? \"yellow\" :\n",
    "    \"black\";\n",
    "\n",
    "var p = MakeStatsPlot(statsByBucketsFrame, \"All Days Of Week\", \"Mean\", \"StdDev\", \"Title1\", \"Title1\", getColorByLineName, 800, 600, 0.0, 0.0, 0.0, 0.0);\n",
    "var (plot1, maxx, maxy, minx, miny) = p;\n",
    "display(plot1);\n",
    "\n",
    "var subPlots = new[] { \"Monday\", \"Tuesday\", \"Wednesday\", \"Thursday\", \"Friday\", \"Saturday\", \"Sunday\" }\n",
    "    .Select(dow => \n",
    "    {\n",
    "        var frame = statsByBucketsFrame.Where(kvp => kvp.Value.GetAs<string>(\"Title2\") == dow);\n",
    "        var plot = MakeStatsPlot(frame, dow, \"Mean\", \"StdDev\", \"Title1\", \"Title1\", getColorByLineName, 800, 600, maxx, maxy, minx, miny).Item1;\n",
    "        return plot;\n",
    "    })\n",
    "    .ToArray();\n",
    "\n",
    "foreach (var sp in subPlots)\n",
    "    display(sp);\n",
    "            "
   ]
  },
  {
   "cell_type": "code",
   "execution_count": 71,
   "metadata": {},
   "outputs": [],
   "source": [
    "void DisplayStops(string lineName = null)\n",
    "{\n",
    "    var frame = lineName == null ? allFrames.First().Value.frame : allFrames[lineName].frame;\n",
    "    var stops = frame.GetColumn<string>(\"IrsStopCode\").Values.Distinct().ToArray();\n",
    "    display(stops);\n",
    "}"
   ]
  },
  {
   "cell_type": "code",
   "execution_count": 72,
   "metadata": {},
   "outputs": [
    {
     "data": {
      "text/html": [
       "<table><thead><tr><th><i>index</i></th><th>value</th></tr></thead><tbody><tr><td>0</td><td>40870</td></tr></tbody></table>"
      ]
     },
     "metadata": {},
     "output_type": "display_data"
    }
   ],
   "source": [
    "DisplayStops(\"490\");\n",
    "//DisplayStops(\"837\");"
   ]
  },
  {
   "cell_type": "code",
   "execution_count": null,
   "metadata": {},
   "outputs": [],
   "source": []
  }
 ],
 "metadata": {
  "kernelspec": {
   "display_name": ".NET (C#)",
   "language": "C#",
   "name": ".net-csharp"
  },
  "language_info": {
   "file_extension": ".cs",
   "mimetype": "text/x-csharp",
   "name": "C#",
   "pygments_lexer": "csharp",
   "version": "8.0"
  }
 },
 "nbformat": 4,
 "nbformat_minor": 4
}
